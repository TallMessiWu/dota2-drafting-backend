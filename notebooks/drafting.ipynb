{
 "cells": [
  {
   "cell_type": "code",
   "execution_count": 1,
   "outputs": [],
   "source": [
    "import pandas as pd"
   ],
   "metadata": {
    "collapsed": false
   }
  },
  {
   "cell_type": "code",
   "execution_count": 117,
   "metadata": {
    "collapsed": true
   },
   "outputs": [],
   "source": [
    "class Drafting:\n",
    "    def __init__(self):\n",
    "        with open(\"../data/processed_data/heroes_stats.csv\") as f:\n",
    "            self.heroes = pd.read_csv(f, index_col=0)\n",
    "        self.drafting = [None for i in range(24)]\n",
    "        self.pool = self.heroes[\"id\"].to_list()\n",
    "        self.first_pick_team = None\n",
    "\n",
    "    def pick(self, hero_id, team_id):\n",
    "        if self.first_pick_team is None:\n",
    "            self.first_pick_team = team_id\n",
    "        if not self.check_status():\n",
    "            return \"drafting is over\"\n",
    "        if hero_id in self.pool:\n",
    "            self.pool.remove(hero_id)\n",
    "            self.drafting[self.drafting.index(None)] = hero_id\n",
    "            return \"success\"\n",
    "        else:\n",
    "            return \"fail\"\n",
    "\n",
    "    def check_status(self):\n",
    "        return None in self.drafting\n",
    "\n",
    "    def generate_data(self):\n",
    "        data = pd.DataFrame()\n",
    "        for i in range(24):\n",
    "            data = pd.concat([data, self.heroes.query(\"id == {}\".format(self.drafting[i])).drop(\"localized_name\", axis=1).add_prefix(\"selection_{}_\".format(i)).reset_index(drop=True)], axis=1)\n",
    "        return data\n"
   ]
  },
  {
   "cell_type": "code",
   "execution_count": 118,
   "outputs": [],
   "source": [
    "game = Drafting()\n",
    "team_id = 0\n",
    "for i in range(24):\n",
    "    game.pick(game.pool[0], team_id)\n",
    "    team_id = 1 - team_id"
   ],
   "metadata": {
    "collapsed": false
   }
  },
  {
   "cell_type": "code",
   "execution_count": 119,
   "outputs": [
    {
     "data": {
      "text/plain": "   selection_0_id  selection_0_base_health  selection_0_base_health_regen  \\\n0               1                      200                           0.25   \n\n   selection_0_base_mana  selection_0_base_mana_regen  selection_0_base_armor  \\\n0                     75                          0.0                     0.0   \n\n   selection_0_base_mr  selection_0_base_attack_min  \\\n0                   25                           29   \n\n   selection_0_base_attack_max  selection_0_base_str  ...  \\\n0                           33                    21  ...   \n\n   selection_23_Durable  selection_23_Escape  selection_23_Initiator  \\\n0                     0                    0                       0   \n\n   selection_23_Jungler  selection_23_Nuker  selection_23_Pusher  \\\n0                     0                   1                    0   \n\n   selection_23_Support  selection_23_agi  selection_23_int  \\\n0                     1                 0                 1   \n\n   selection_23_Melee  \n0                   0  \n\n[1 rows x 816 columns]",
      "text/html": "<div>\n<style scoped>\n    .dataframe tbody tr th:only-of-type {\n        vertical-align: middle;\n    }\n\n    .dataframe tbody tr th {\n        vertical-align: top;\n    }\n\n    .dataframe thead th {\n        text-align: right;\n    }\n</style>\n<table border=\"1\" class=\"dataframe\">\n  <thead>\n    <tr style=\"text-align: right;\">\n      <th></th>\n      <th>selection_0_id</th>\n      <th>selection_0_base_health</th>\n      <th>selection_0_base_health_regen</th>\n      <th>selection_0_base_mana</th>\n      <th>selection_0_base_mana_regen</th>\n      <th>selection_0_base_armor</th>\n      <th>selection_0_base_mr</th>\n      <th>selection_0_base_attack_min</th>\n      <th>selection_0_base_attack_max</th>\n      <th>selection_0_base_str</th>\n      <th>...</th>\n      <th>selection_23_Durable</th>\n      <th>selection_23_Escape</th>\n      <th>selection_23_Initiator</th>\n      <th>selection_23_Jungler</th>\n      <th>selection_23_Nuker</th>\n      <th>selection_23_Pusher</th>\n      <th>selection_23_Support</th>\n      <th>selection_23_agi</th>\n      <th>selection_23_int</th>\n      <th>selection_23_Melee</th>\n    </tr>\n  </thead>\n  <tbody>\n    <tr>\n      <th>0</th>\n      <td>1</td>\n      <td>200</td>\n      <td>0.25</td>\n      <td>75</td>\n      <td>0.0</td>\n      <td>0.0</td>\n      <td>25</td>\n      <td>29</td>\n      <td>33</td>\n      <td>21</td>\n      <td>...</td>\n      <td>0</td>\n      <td>0</td>\n      <td>0</td>\n      <td>0</td>\n      <td>1</td>\n      <td>0</td>\n      <td>1</td>\n      <td>0</td>\n      <td>1</td>\n      <td>0</td>\n    </tr>\n  </tbody>\n</table>\n<p>1 rows × 816 columns</p>\n</div>"
     },
     "execution_count": 119,
     "metadata": {},
     "output_type": "execute_result"
    }
   ],
   "source": [
    "game.generate_data()\n"
   ],
   "metadata": {
    "collapsed": false
   }
  },
  {
   "cell_type": "code",
   "execution_count": null,
   "outputs": [],
   "source": [],
   "metadata": {
    "collapsed": false
   }
  }
 ],
 "metadata": {
  "kernelspec": {
   "display_name": "Python 3",
   "language": "python",
   "name": "python3"
  },
  "language_info": {
   "codemirror_mode": {
    "name": "ipython",
    "version": 2
   },
   "file_extension": ".py",
   "mimetype": "text/x-python",
   "name": "python",
   "nbconvert_exporter": "python",
   "pygments_lexer": "ipython2",
   "version": "2.7.6"
  }
 },
 "nbformat": 4,
 "nbformat_minor": 0
}
