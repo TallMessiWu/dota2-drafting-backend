{
 "cells": [
  {
   "cell_type": "code",
   "execution_count": 108,
   "metadata": {
    "collapsed": true
   },
   "outputs": [],
   "source": [
    "import sys\n",
    "\n",
    "# setting path\n",
    "sys.path.append('..')\n"
   ]
  },
  {
   "cell_type": "code",
   "execution_count": 109,
   "outputs": [],
   "source": [
    "# outside package\n",
    "import pandas as pd\n",
    "from sklearn.model_selection import train_test_split\n",
    "import torch\n",
    "from torch import nn\n",
    "from torch.utils.data import DataLoader, TensorDataset"
   ],
   "metadata": {
    "collapsed": false
   }
  },
  {
   "cell_type": "markdown",
   "source": [
    "# Read Data"
   ],
   "metadata": {
    "collapsed": false
   }
  },
  {
   "cell_type": "code",
   "execution_count": 110,
   "outputs": [
    {
     "data": {
      "text/plain": "   id            name  win_rate  against_hero_1  against_hero_2  \\\n0   1       Anti-Mage  0.489100             NaN        0.566667   \n1   2             Axe  0.485514        0.433333             NaN   \n2   3            Bane  0.552398        0.535211        0.525424   \n3   4     Bloodseeker  0.496582        0.552632        0.423077   \n4   5  Crystal Maiden  0.496833        0.558140        0.528736   \n\n   against_hero_3  against_hero_4  against_hero_5  against_hero_6  \\\n0        0.464789        0.447368        0.441860        0.608696   \n1        0.474576        0.576923        0.471264        0.507937   \n2             NaN        0.605042        0.576087        0.495413   \n3        0.394958             NaN        0.589147        0.480769   \n4        0.423913        0.410853             NaN        0.491124   \n\n   against_hero_7  ...  against_hero_119  against_hero_120  against_hero_121  \\\n0        0.588235  ...          0.545455          0.500000          0.535433   \n1        0.666667  ...          0.473684          0.482143          0.474227   \n2        0.562500  ...          0.516129          0.530928          0.592018   \n3        0.490909  ...          0.480000          0.515513          0.620321   \n4        0.461538  ...          0.519481          0.507519          0.550296   \n\n   against_hero_123  against_hero_126  against_hero_128  against_hero_129  \\\n0          0.381579          0.477273          0.460526          0.413793   \n1          0.508475          0.486486          0.490196          0.544828   \n2          0.617925          0.616822          0.595745          0.583984   \n3          0.537313          0.567164          0.506550          0.517647   \n4          0.516807          0.400000          0.482085          0.538462   \n\n   against_hero_135  against_hero_136  against_hero_137  \n0          0.428571          0.520000          0.521739  \n1          0.419355          0.471429          0.392857  \n2          0.547945          0.490066          0.589744  \n3          0.517413          0.483871          0.387755  \n4          0.492593          0.490141          0.514851  \n\n[5 rows x 126 columns]",
      "text/html": "<div>\n<style scoped>\n    .dataframe tbody tr th:only-of-type {\n        vertical-align: middle;\n    }\n\n    .dataframe tbody tr th {\n        vertical-align: top;\n    }\n\n    .dataframe thead th {\n        text-align: right;\n    }\n</style>\n<table border=\"1\" class=\"dataframe\">\n  <thead>\n    <tr style=\"text-align: right;\">\n      <th></th>\n      <th>id</th>\n      <th>name</th>\n      <th>win_rate</th>\n      <th>against_hero_1</th>\n      <th>against_hero_2</th>\n      <th>against_hero_3</th>\n      <th>against_hero_4</th>\n      <th>against_hero_5</th>\n      <th>against_hero_6</th>\n      <th>against_hero_7</th>\n      <th>...</th>\n      <th>against_hero_119</th>\n      <th>against_hero_120</th>\n      <th>against_hero_121</th>\n      <th>against_hero_123</th>\n      <th>against_hero_126</th>\n      <th>against_hero_128</th>\n      <th>against_hero_129</th>\n      <th>against_hero_135</th>\n      <th>against_hero_136</th>\n      <th>against_hero_137</th>\n    </tr>\n  </thead>\n  <tbody>\n    <tr>\n      <th>0</th>\n      <td>1</td>\n      <td>Anti-Mage</td>\n      <td>0.489100</td>\n      <td>NaN</td>\n      <td>0.566667</td>\n      <td>0.464789</td>\n      <td>0.447368</td>\n      <td>0.441860</td>\n      <td>0.608696</td>\n      <td>0.588235</td>\n      <td>...</td>\n      <td>0.545455</td>\n      <td>0.500000</td>\n      <td>0.535433</td>\n      <td>0.381579</td>\n      <td>0.477273</td>\n      <td>0.460526</td>\n      <td>0.413793</td>\n      <td>0.428571</td>\n      <td>0.520000</td>\n      <td>0.521739</td>\n    </tr>\n    <tr>\n      <th>1</th>\n      <td>2</td>\n      <td>Axe</td>\n      <td>0.485514</td>\n      <td>0.433333</td>\n      <td>NaN</td>\n      <td>0.474576</td>\n      <td>0.576923</td>\n      <td>0.471264</td>\n      <td>0.507937</td>\n      <td>0.666667</td>\n      <td>...</td>\n      <td>0.473684</td>\n      <td>0.482143</td>\n      <td>0.474227</td>\n      <td>0.508475</td>\n      <td>0.486486</td>\n      <td>0.490196</td>\n      <td>0.544828</td>\n      <td>0.419355</td>\n      <td>0.471429</td>\n      <td>0.392857</td>\n    </tr>\n    <tr>\n      <th>2</th>\n      <td>3</td>\n      <td>Bane</td>\n      <td>0.552398</td>\n      <td>0.535211</td>\n      <td>0.525424</td>\n      <td>NaN</td>\n      <td>0.605042</td>\n      <td>0.576087</td>\n      <td>0.495413</td>\n      <td>0.562500</td>\n      <td>...</td>\n      <td>0.516129</td>\n      <td>0.530928</td>\n      <td>0.592018</td>\n      <td>0.617925</td>\n      <td>0.616822</td>\n      <td>0.595745</td>\n      <td>0.583984</td>\n      <td>0.547945</td>\n      <td>0.490066</td>\n      <td>0.589744</td>\n    </tr>\n    <tr>\n      <th>3</th>\n      <td>4</td>\n      <td>Bloodseeker</td>\n      <td>0.496582</td>\n      <td>0.552632</td>\n      <td>0.423077</td>\n      <td>0.394958</td>\n      <td>NaN</td>\n      <td>0.589147</td>\n      <td>0.480769</td>\n      <td>0.490909</td>\n      <td>...</td>\n      <td>0.480000</td>\n      <td>0.515513</td>\n      <td>0.620321</td>\n      <td>0.537313</td>\n      <td>0.567164</td>\n      <td>0.506550</td>\n      <td>0.517647</td>\n      <td>0.517413</td>\n      <td>0.483871</td>\n      <td>0.387755</td>\n    </tr>\n    <tr>\n      <th>4</th>\n      <td>5</td>\n      <td>Crystal Maiden</td>\n      <td>0.496833</td>\n      <td>0.558140</td>\n      <td>0.528736</td>\n      <td>0.423913</td>\n      <td>0.410853</td>\n      <td>NaN</td>\n      <td>0.491124</td>\n      <td>0.461538</td>\n      <td>...</td>\n      <td>0.519481</td>\n      <td>0.507519</td>\n      <td>0.550296</td>\n      <td>0.516807</td>\n      <td>0.400000</td>\n      <td>0.482085</td>\n      <td>0.538462</td>\n      <td>0.492593</td>\n      <td>0.490141</td>\n      <td>0.514851</td>\n    </tr>\n  </tbody>\n</table>\n<p>5 rows × 126 columns</p>\n</div>"
     },
     "execution_count": 110,
     "metadata": {},
     "output_type": "execute_result"
    }
   ],
   "source": [
    "heroes_data = pd.read_csv(\"../data/processed_data/heroes_data.csv\", index_col=0)\n",
    "heroes_data.head()"
   ],
   "metadata": {
    "collapsed": false
   }
  },
  {
   "cell_type": "code",
   "execution_count": 111,
   "outputs": [
    {
     "data": {
      "text/plain": "   id  localized_name  base_health  base_health_regen  base_mana  \\\n0   1       Anti-Mage          200               0.25         75   \n1   2             Axe          200               2.50         75   \n2   3            Bane          200               0.25         75   \n3   4     Bloodseeker          200               0.25         75   \n4   5  Crystal Maiden          200               0.25         75   \n\n   base_mana_regen  base_armor  base_mr  base_attack_min  base_attack_max  \\\n0              0.0         0.0       25               29               33   \n1              0.0        -1.0       25               27               31   \n2              0.0         1.0       25               33               39   \n3              0.0         2.0       25               35               41   \n4              1.0        -1.0       25               28               34   \n\n   ...  Durable  Escape  Initiator  Jungler  Nuker  Pusher  Support  agi  int  \\\n0  ...        0       1          0        0      1       0        0    1    0   \n1  ...        1       0          1        1      0       0        0    0    0   \n2  ...        1       0          0        0      1       0        1    0    1   \n3  ...        0       0          1        1      1       0        0    1    0   \n4  ...        0       0          0        1      1       0        1    0    1   \n\n   Melee  \n0      1  \n1      1  \n2      0  \n3      1  \n4      0  \n\n[5 rows x 35 columns]",
      "text/html": "<div>\n<style scoped>\n    .dataframe tbody tr th:only-of-type {\n        vertical-align: middle;\n    }\n\n    .dataframe tbody tr th {\n        vertical-align: top;\n    }\n\n    .dataframe thead th {\n        text-align: right;\n    }\n</style>\n<table border=\"1\" class=\"dataframe\">\n  <thead>\n    <tr style=\"text-align: right;\">\n      <th></th>\n      <th>id</th>\n      <th>localized_name</th>\n      <th>base_health</th>\n      <th>base_health_regen</th>\n      <th>base_mana</th>\n      <th>base_mana_regen</th>\n      <th>base_armor</th>\n      <th>base_mr</th>\n      <th>base_attack_min</th>\n      <th>base_attack_max</th>\n      <th>...</th>\n      <th>Durable</th>\n      <th>Escape</th>\n      <th>Initiator</th>\n      <th>Jungler</th>\n      <th>Nuker</th>\n      <th>Pusher</th>\n      <th>Support</th>\n      <th>agi</th>\n      <th>int</th>\n      <th>Melee</th>\n    </tr>\n  </thead>\n  <tbody>\n    <tr>\n      <th>0</th>\n      <td>1</td>\n      <td>Anti-Mage</td>\n      <td>200</td>\n      <td>0.25</td>\n      <td>75</td>\n      <td>0.0</td>\n      <td>0.0</td>\n      <td>25</td>\n      <td>29</td>\n      <td>33</td>\n      <td>...</td>\n      <td>0</td>\n      <td>1</td>\n      <td>0</td>\n      <td>0</td>\n      <td>1</td>\n      <td>0</td>\n      <td>0</td>\n      <td>1</td>\n      <td>0</td>\n      <td>1</td>\n    </tr>\n    <tr>\n      <th>1</th>\n      <td>2</td>\n      <td>Axe</td>\n      <td>200</td>\n      <td>2.50</td>\n      <td>75</td>\n      <td>0.0</td>\n      <td>-1.0</td>\n      <td>25</td>\n      <td>27</td>\n      <td>31</td>\n      <td>...</td>\n      <td>1</td>\n      <td>0</td>\n      <td>1</td>\n      <td>1</td>\n      <td>0</td>\n      <td>0</td>\n      <td>0</td>\n      <td>0</td>\n      <td>0</td>\n      <td>1</td>\n    </tr>\n    <tr>\n      <th>2</th>\n      <td>3</td>\n      <td>Bane</td>\n      <td>200</td>\n      <td>0.25</td>\n      <td>75</td>\n      <td>0.0</td>\n      <td>1.0</td>\n      <td>25</td>\n      <td>33</td>\n      <td>39</td>\n      <td>...</td>\n      <td>1</td>\n      <td>0</td>\n      <td>0</td>\n      <td>0</td>\n      <td>1</td>\n      <td>0</td>\n      <td>1</td>\n      <td>0</td>\n      <td>1</td>\n      <td>0</td>\n    </tr>\n    <tr>\n      <th>3</th>\n      <td>4</td>\n      <td>Bloodseeker</td>\n      <td>200</td>\n      <td>0.25</td>\n      <td>75</td>\n      <td>0.0</td>\n      <td>2.0</td>\n      <td>25</td>\n      <td>35</td>\n      <td>41</td>\n      <td>...</td>\n      <td>0</td>\n      <td>0</td>\n      <td>1</td>\n      <td>1</td>\n      <td>1</td>\n      <td>0</td>\n      <td>0</td>\n      <td>1</td>\n      <td>0</td>\n      <td>1</td>\n    </tr>\n    <tr>\n      <th>4</th>\n      <td>5</td>\n      <td>Crystal Maiden</td>\n      <td>200</td>\n      <td>0.25</td>\n      <td>75</td>\n      <td>1.0</td>\n      <td>-1.0</td>\n      <td>25</td>\n      <td>28</td>\n      <td>34</td>\n      <td>...</td>\n      <td>0</td>\n      <td>0</td>\n      <td>0</td>\n      <td>1</td>\n      <td>1</td>\n      <td>0</td>\n      <td>1</td>\n      <td>0</td>\n      <td>1</td>\n      <td>0</td>\n    </tr>\n  </tbody>\n</table>\n<p>5 rows × 35 columns</p>\n</div>"
     },
     "execution_count": 111,
     "metadata": {},
     "output_type": "execute_result"
    }
   ],
   "source": [
    "heroes_stats = pd.read_csv(\"../data/processed_data/heroes_stats.csv\", index_col=0)\n",
    "heroes_stats.head()"
   ],
   "metadata": {
    "collapsed": false
   }
  },
  {
   "cell_type": "code",
   "execution_count": 112,
   "outputs": [
    {
     "data": {
      "text/plain": "     match_id  radiant_win  region  patch  first_pick_team  selection_0  \\\n0  5746455668        False       3     47                1           85   \n1  5795993534         True       3     47                0           65   \n2  5883814830         True       5     47                1          102   \n3  5860105982         True      17     47                0           38   \n4  5831784791         True       3     47                1            7   \n\n   selection_1  selection_2  selection_3  selection_4  ...  selection_14  \\\n0           91           79           41           43  ...            47   \n1           88           32          111           13  ...            38   \n2           88           73           13           86  ...           129   \n3           88            9           13          111  ...           102   \n4           90           88           91          111  ...            86   \n\n   selection_15  selection_16  selection_17  selection_18  selection_19  \\\n0            20            64            94           128            65   \n1            51            12             4            47            54   \n2           121           110            32           113           106   \n3            42           126            11            70            29   \n4           107            94             1            28            49   \n\n   selection_20  selection_21  selection_22  selection_23  \n0             4            33            28            55  \n1            46            11            55           114  \n2           126            17            39            74  \n3            12            60           104            18  \n4             2            22            55           104  \n\n[5 rows x 29 columns]",
      "text/html": "<div>\n<style scoped>\n    .dataframe tbody tr th:only-of-type {\n        vertical-align: middle;\n    }\n\n    .dataframe tbody tr th {\n        vertical-align: top;\n    }\n\n    .dataframe thead th {\n        text-align: right;\n    }\n</style>\n<table border=\"1\" class=\"dataframe\">\n  <thead>\n    <tr style=\"text-align: right;\">\n      <th></th>\n      <th>match_id</th>\n      <th>radiant_win</th>\n      <th>region</th>\n      <th>patch</th>\n      <th>first_pick_team</th>\n      <th>selection_0</th>\n      <th>selection_1</th>\n      <th>selection_2</th>\n      <th>selection_3</th>\n      <th>selection_4</th>\n      <th>...</th>\n      <th>selection_14</th>\n      <th>selection_15</th>\n      <th>selection_16</th>\n      <th>selection_17</th>\n      <th>selection_18</th>\n      <th>selection_19</th>\n      <th>selection_20</th>\n      <th>selection_21</th>\n      <th>selection_22</th>\n      <th>selection_23</th>\n    </tr>\n  </thead>\n  <tbody>\n    <tr>\n      <th>0</th>\n      <td>5746455668</td>\n      <td>False</td>\n      <td>3</td>\n      <td>47</td>\n      <td>1</td>\n      <td>85</td>\n      <td>91</td>\n      <td>79</td>\n      <td>41</td>\n      <td>43</td>\n      <td>...</td>\n      <td>47</td>\n      <td>20</td>\n      <td>64</td>\n      <td>94</td>\n      <td>128</td>\n      <td>65</td>\n      <td>4</td>\n      <td>33</td>\n      <td>28</td>\n      <td>55</td>\n    </tr>\n    <tr>\n      <th>1</th>\n      <td>5795993534</td>\n      <td>True</td>\n      <td>3</td>\n      <td>47</td>\n      <td>0</td>\n      <td>65</td>\n      <td>88</td>\n      <td>32</td>\n      <td>111</td>\n      <td>13</td>\n      <td>...</td>\n      <td>38</td>\n      <td>51</td>\n      <td>12</td>\n      <td>4</td>\n      <td>47</td>\n      <td>54</td>\n      <td>46</td>\n      <td>11</td>\n      <td>55</td>\n      <td>114</td>\n    </tr>\n    <tr>\n      <th>2</th>\n      <td>5883814830</td>\n      <td>True</td>\n      <td>5</td>\n      <td>47</td>\n      <td>1</td>\n      <td>102</td>\n      <td>88</td>\n      <td>73</td>\n      <td>13</td>\n      <td>86</td>\n      <td>...</td>\n      <td>129</td>\n      <td>121</td>\n      <td>110</td>\n      <td>32</td>\n      <td>113</td>\n      <td>106</td>\n      <td>126</td>\n      <td>17</td>\n      <td>39</td>\n      <td>74</td>\n    </tr>\n    <tr>\n      <th>3</th>\n      <td>5860105982</td>\n      <td>True</td>\n      <td>17</td>\n      <td>47</td>\n      <td>0</td>\n      <td>38</td>\n      <td>88</td>\n      <td>9</td>\n      <td>13</td>\n      <td>111</td>\n      <td>...</td>\n      <td>102</td>\n      <td>42</td>\n      <td>126</td>\n      <td>11</td>\n      <td>70</td>\n      <td>29</td>\n      <td>12</td>\n      <td>60</td>\n      <td>104</td>\n      <td>18</td>\n    </tr>\n    <tr>\n      <th>4</th>\n      <td>5831784791</td>\n      <td>True</td>\n      <td>3</td>\n      <td>47</td>\n      <td>1</td>\n      <td>7</td>\n      <td>90</td>\n      <td>88</td>\n      <td>91</td>\n      <td>111</td>\n      <td>...</td>\n      <td>86</td>\n      <td>107</td>\n      <td>94</td>\n      <td>1</td>\n      <td>28</td>\n      <td>49</td>\n      <td>2</td>\n      <td>22</td>\n      <td>55</td>\n      <td>104</td>\n    </tr>\n  </tbody>\n</table>\n<p>5 rows × 29 columns</p>\n</div>"
     },
     "execution_count": 112,
     "metadata": {},
     "output_type": "execute_result"
    }
   ],
   "source": [
    "data = pd.read_csv(\"../data/processed_data/data.json\", index_col=0)\n",
    "data.head()"
   ],
   "metadata": {
    "collapsed": false
   }
  },
  {
   "cell_type": "code",
   "execution_count": 113,
   "outputs": [
    {
     "data": {
      "text/plain": "        match_id  radiant_win  region  patch  first_pick_team  selection_0_id  \\\n8673  6174065640         True       5     49                0              92   \n6134  6123989664         True       5     48                0              63   \n6338  6136030919         True       5     48                0              15   \n7849  6170284378        False       3     49                0              93   \n2526  5987591218         True      13     48                0              90   \n\n      selection_0_base_health  selection_0_base_health_regen  \\\n8673                      200                           0.25   \n6134                      200                           1.25   \n6338                      200                           1.00   \n7849                      200                           1.75   \n2526                      200                           0.25   \n\n      selection_0_base_mana  selection_0_base_mana_regen  ...  \\\n8673                     75                          0.0  ...   \n6134                     75                          0.5  ...   \n6338                     75                          0.0  ...   \n7849                     75                          0.0  ...   \n2526                     75                          0.0  ...   \n\n      selection_23_Durable  selection_23_Escape  selection_23_Initiator  \\\n8673                     0                    0                       0   \n6134                     0                    0                       0   \n6338                     0                    0                       0   \n7849                     0                    0                       0   \n2526                     0                    0                       0   \n\n      selection_23_Jungler  selection_23_Nuker  selection_23_Pusher  \\\n8673                     0                   1                    0   \n6134                     0                   1                    0   \n6338                     0                   1                    0   \n7849                     0                   1                    0   \n2526                     0                   1                    0   \n\n      selection_23_Support  selection_23_agi  selection_23_int  \\\n8673                     0                 0                 1   \n6134                     0                 0                 1   \n6338                     0                 0                 1   \n7849                     0                 0                 1   \n2526                     0                 0                 1   \n\n      selection_23_Melee  \n8673                   0  \n6134                   0  \n6338                   0  \n7849                   0  \n2526                   0  \n\n[5 rows x 821 columns]",
      "text/html": "<div>\n<style scoped>\n    .dataframe tbody tr th:only-of-type {\n        vertical-align: middle;\n    }\n\n    .dataframe tbody tr th {\n        vertical-align: top;\n    }\n\n    .dataframe thead th {\n        text-align: right;\n    }\n</style>\n<table border=\"1\" class=\"dataframe\">\n  <thead>\n    <tr style=\"text-align: right;\">\n      <th></th>\n      <th>match_id</th>\n      <th>radiant_win</th>\n      <th>region</th>\n      <th>patch</th>\n      <th>first_pick_team</th>\n      <th>selection_0_id</th>\n      <th>selection_0_base_health</th>\n      <th>selection_0_base_health_regen</th>\n      <th>selection_0_base_mana</th>\n      <th>selection_0_base_mana_regen</th>\n      <th>...</th>\n      <th>selection_23_Durable</th>\n      <th>selection_23_Escape</th>\n      <th>selection_23_Initiator</th>\n      <th>selection_23_Jungler</th>\n      <th>selection_23_Nuker</th>\n      <th>selection_23_Pusher</th>\n      <th>selection_23_Support</th>\n      <th>selection_23_agi</th>\n      <th>selection_23_int</th>\n      <th>selection_23_Melee</th>\n    </tr>\n  </thead>\n  <tbody>\n    <tr>\n      <th>8673</th>\n      <td>6174065640</td>\n      <td>True</td>\n      <td>5</td>\n      <td>49</td>\n      <td>0</td>\n      <td>92</td>\n      <td>200</td>\n      <td>0.25</td>\n      <td>75</td>\n      <td>0.0</td>\n      <td>...</td>\n      <td>0</td>\n      <td>0</td>\n      <td>0</td>\n      <td>0</td>\n      <td>1</td>\n      <td>0</td>\n      <td>0</td>\n      <td>0</td>\n      <td>1</td>\n      <td>0</td>\n    </tr>\n    <tr>\n      <th>6134</th>\n      <td>6123989664</td>\n      <td>True</td>\n      <td>5</td>\n      <td>48</td>\n      <td>0</td>\n      <td>63</td>\n      <td>200</td>\n      <td>1.25</td>\n      <td>75</td>\n      <td>0.5</td>\n      <td>...</td>\n      <td>0</td>\n      <td>0</td>\n      <td>0</td>\n      <td>0</td>\n      <td>1</td>\n      <td>0</td>\n      <td>0</td>\n      <td>0</td>\n      <td>1</td>\n      <td>0</td>\n    </tr>\n    <tr>\n      <th>6338</th>\n      <td>6136030919</td>\n      <td>True</td>\n      <td>5</td>\n      <td>48</td>\n      <td>0</td>\n      <td>15</td>\n      <td>200</td>\n      <td>1.00</td>\n      <td>75</td>\n      <td>0.0</td>\n      <td>...</td>\n      <td>0</td>\n      <td>0</td>\n      <td>0</td>\n      <td>0</td>\n      <td>1</td>\n      <td>0</td>\n      <td>0</td>\n      <td>0</td>\n      <td>1</td>\n      <td>0</td>\n    </tr>\n    <tr>\n      <th>7849</th>\n      <td>6170284378</td>\n      <td>False</td>\n      <td>3</td>\n      <td>49</td>\n      <td>0</td>\n      <td>93</td>\n      <td>200</td>\n      <td>1.75</td>\n      <td>75</td>\n      <td>0.0</td>\n      <td>...</td>\n      <td>0</td>\n      <td>0</td>\n      <td>0</td>\n      <td>0</td>\n      <td>1</td>\n      <td>0</td>\n      <td>0</td>\n      <td>0</td>\n      <td>1</td>\n      <td>0</td>\n    </tr>\n    <tr>\n      <th>2526</th>\n      <td>5987591218</td>\n      <td>True</td>\n      <td>13</td>\n      <td>48</td>\n      <td>0</td>\n      <td>90</td>\n      <td>200</td>\n      <td>0.25</td>\n      <td>75</td>\n      <td>0.0</td>\n      <td>...</td>\n      <td>0</td>\n      <td>0</td>\n      <td>0</td>\n      <td>0</td>\n      <td>1</td>\n      <td>0</td>\n      <td>0</td>\n      <td>0</td>\n      <td>1</td>\n      <td>0</td>\n    </tr>\n  </tbody>\n</table>\n<p>5 rows × 821 columns</p>\n</div>"
     },
     "execution_count": 113,
     "metadata": {},
     "output_type": "execute_result"
    }
   ],
   "source": [
    "merged_data = pd.read_csv(\"../data/processed_data/merged_data.csv\", index_col=0)\n",
    "merged_data.head()"
   ],
   "metadata": {
    "collapsed": false
   }
  },
  {
   "cell_type": "markdown",
   "source": [
    "# Prepare Data For Training"
   ],
   "metadata": {
    "collapsed": false
   }
  },
  {
   "cell_type": "code",
   "execution_count": 114,
   "outputs": [],
   "source": [
    "X = merged_data.drop([\"match_id\", \"radiant_win\"], axis=1)\n",
    "y = merged_data[\"radiant_win\"]"
   ],
   "metadata": {
    "collapsed": false
   }
  },
  {
   "cell_type": "code",
   "execution_count": 115,
   "outputs": [],
   "source": [
    "X_train, X_test, y_train, y_test = train_test_split(X, y, test_size=0.2, random_state=666)"
   ],
   "metadata": {
    "collapsed": false
   }
  },
  {
   "cell_type": "markdown",
   "source": [
    "# Neural Network"
   ],
   "metadata": {
    "collapsed": false
   }
  },
  {
   "cell_type": "code",
   "execution_count": 116,
   "outputs": [
    {
     "name": "stdout",
     "output_type": "stream",
     "text": [
      "Using cuda device\n"
     ]
    }
   ],
   "source": [
    "device = \"cuda\" if torch.cuda.is_available() else \"mps\" if torch.backends.mps.is_available() else \"cpu\"\n",
    "print(f\"Using {device} device\")"
   ],
   "metadata": {
    "collapsed": false
   }
  },
  {
   "cell_type": "markdown",
   "source": [
    "Convert Data to Tensor"
   ],
   "metadata": {
    "collapsed": false
   }
  },
  {
   "cell_type": "code",
   "execution_count": 117,
   "outputs": [],
   "source": [
    "training_data = TensorDataset(torch.Tensor(X_train.values), torch.Tensor(y_train.values))\n",
    "test_data = TensorDataset(torch.Tensor(X_test.values), torch.Tensor(y_test.values))"
   ],
   "metadata": {
    "collapsed": false
   }
  },
  {
   "cell_type": "markdown",
   "source": [
    "Create Data Loader"
   ],
   "metadata": {
    "collapsed": false
   }
  },
  {
   "cell_type": "code",
   "execution_count": 118,
   "outputs": [],
   "source": [
    "training_dataloader = DataLoader(training_data, batch_size=10, shuffle=True)\n",
    "test_dataloader = DataLoader(test_data, batch_size=10, shuffle=True)"
   ],
   "metadata": {
    "collapsed": false
   }
  },
  {
   "cell_type": "code",
   "execution_count": 119,
   "outputs": [
    {
     "name": "stdout",
     "output_type": "stream",
     "text": [
      "Shape of X [N, C]: torch.Size([10, 819])\n",
      "Shape of y: torch.Size([10]) torch.float32\n"
     ]
    }
   ],
   "source": [
    "for X, y in test_dataloader:\n",
    "    print(f\"Shape of X [N, C]: {X.shape}\")\n",
    "    print(f\"Shape of y: {y.shape} {y.dtype}\")\n",
    "    break"
   ],
   "metadata": {
    "collapsed": false
   }
  },
  {
   "cell_type": "code",
   "execution_count": 120,
   "outputs": [
    {
     "name": "stdout",
     "output_type": "stream",
     "text": [
      "NeuralNetwork(\n",
      "  (flatten): Flatten(start_dim=1, end_dim=-1)\n",
      "  (linear_relu_stack): Sequential(\n",
      "    (0): Linear(in_features=819, out_features=2000, bias=True)\n",
      "    (1): ReLU()\n",
      "    (2): Linear(in_features=2000, out_features=512, bias=True)\n",
      "    (3): ReLU()\n",
      "    (4): Linear(in_features=512, out_features=200, bias=True)\n",
      "    (5): ReLU()\n",
      "    (6): Linear(in_features=200, out_features=100, bias=True)\n",
      "  )\n",
      ")\n"
     ]
    }
   ],
   "source": [
    "# Define model\n",
    "class NeuralNetwork(nn.Module):\n",
    "    def __init__(self):\n",
    "        super().__init__()\n",
    "        self.flatten = nn.Flatten()\n",
    "        self.linear_relu_stack = nn.Sequential(\n",
    "            nn.Linear(819, 2000),\n",
    "            nn.ReLU(),\n",
    "            nn.Linear(2000, 512),\n",
    "            nn.ReLU(),\n",
    "            nn.Linear(512, 200),\n",
    "            nn.ReLU(),\n",
    "            nn.Linear(200, 100)\n",
    "        )\n",
    "\n",
    "\n",
    "    def forward(self, x):\n",
    "        x = self.flatten(x)\n",
    "        logits = self.linear_relu_stack(x)\n",
    "        return logits\n",
    "\n",
    "model = NeuralNetwork().to(device)\n",
    "print(model)"
   ],
   "metadata": {
    "collapsed": false
   }
  },
  {
   "cell_type": "code",
   "execution_count": 121,
   "outputs": [],
   "source": [
    "loss_fn = nn.CrossEntropyLoss()\n",
    "optimizer = torch.optim.Adam(model.parameters(), lr=1e-3)"
   ],
   "metadata": {
    "collapsed": false
   }
  },
  {
   "cell_type": "code",
   "execution_count": 122,
   "outputs": [],
   "source": [
    "def train(dataloader, model, loss_fn, optimizer):\n",
    "    size = len(dataloader.dataset)\n",
    "    model.train()\n",
    "    for batch, (X, y) in enumerate(dataloader):\n",
    "        y = y.type(torch.LongTensor)   # casting to long\n",
    "        X, y = X.to(device), y.to(device)\n",
    "\n",
    "        # Compute prediction error\n",
    "        pred = model(X)\n",
    "        loss = loss_fn(pred, y)\n",
    "\n",
    "        # Backpropagation\n",
    "        optimizer.zero_grad()\n",
    "        loss.backward()\n",
    "        optimizer.step()\n",
    "\n",
    "        if batch % 100 == 0:\n",
    "            loss, current = loss.item(), batch * len(X)\n",
    "            print(f\"loss: {loss:>7f}  [{current:>5d}/{size:>5d}]\")\n"
   ],
   "metadata": {
    "collapsed": false
   }
  },
  {
   "cell_type": "code",
   "execution_count": 123,
   "outputs": [],
   "source": [
    "def test(dataloader, model, loss_fn):\n",
    "    size = len(dataloader.dataset)\n",
    "    num_batches = len(dataloader)\n",
    "    model.eval()\n",
    "    test_loss, correct = 0, 0\n",
    "    # 优化计算时间\n",
    "    with torch.no_grad():\n",
    "        for X, y in dataloader:\n",
    "            y = y.type(torch.LongTensor)   # casting to long\n",
    "            X, y = X.to(device), y.to(device)\n",
    "            pred = model(X)\n",
    "            test_loss += loss_fn(pred, y).item()\n",
    "            correct += (pred.argmax(1) == y).type(torch.float).sum().item()\n",
    "    test_loss /= num_batches\n",
    "    correct /= size\n",
    "    print(f\"Test Error: \\n Accuracy: {(100*correct):>0.1f}%, Avg loss: {test_loss:>8f} \\n\")\n"
   ],
   "metadata": {
    "collapsed": false
   }
  },
  {
   "cell_type": "code",
   "execution_count": 124,
   "outputs": [
    {
     "name": "stdout",
     "output_type": "stream",
     "text": [
      "Epoch 1\n",
      "-------------------------------\n",
      "loss: 12.782096  [    0/  803]\n",
      "Test Error: \n",
      " Accuracy: 44.3%, Avg loss: 0.930783 \n",
      "\n",
      "Epoch 2\n",
      "-------------------------------\n",
      "loss: 0.722187  [    0/  803]\n",
      "Test Error: \n",
      " Accuracy: 53.2%, Avg loss: 0.686761 \n",
      "\n",
      "Epoch 3\n",
      "-------------------------------\n",
      "loss: 0.671811  [    0/  803]\n",
      "Test Error: \n",
      " Accuracy: 43.8%, Avg loss: 0.775838 \n",
      "\n",
      "Epoch 4\n",
      "-------------------------------\n",
      "loss: 0.683195  [    0/  803]\n",
      "Test Error: \n",
      " Accuracy: 57.2%, Avg loss: 0.714926 \n",
      "\n",
      "Epoch 5\n",
      "-------------------------------\n",
      "loss: 0.674841  [    0/  803]\n",
      "Test Error: \n",
      " Accuracy: 51.2%, Avg loss: 0.706092 \n",
      "\n",
      "Epoch 6\n",
      "-------------------------------\n",
      "loss: 0.685960  [    0/  803]\n",
      "Test Error: \n",
      " Accuracy: 54.7%, Avg loss: 0.690542 \n",
      "\n",
      "Epoch 7\n",
      "-------------------------------\n",
      "loss: 0.659609  [    0/  803]\n",
      "Test Error: \n",
      " Accuracy: 48.8%, Avg loss: 0.710856 \n",
      "\n",
      "Epoch 8\n",
      "-------------------------------\n",
      "loss: 0.660597  [    0/  803]\n",
      "Test Error: \n",
      " Accuracy: 56.7%, Avg loss: 0.701463 \n",
      "\n",
      "Epoch 9\n",
      "-------------------------------\n",
      "loss: 0.657426  [    0/  803]\n",
      "Test Error: \n",
      " Accuracy: 43.3%, Avg loss: 0.870995 \n",
      "\n",
      "Epoch 10\n",
      "-------------------------------\n",
      "loss: 0.729294  [    0/  803]\n",
      "Test Error: \n",
      " Accuracy: 58.7%, Avg loss: 0.687553 \n",
      "\n",
      "Done!\n"
     ]
    }
   ],
   "source": [
    "epochs = 10\n",
    "for t in range(epochs):\n",
    "    print(f\"Epoch {t+1}\\n-------------------------------\")\n",
    "    train(training_dataloader, model, loss_fn, optimizer)\n",
    "    test(test_dataloader, model, loss_fn)\n",
    "print(\"Done!\")"
   ],
   "metadata": {
    "collapsed": false
   }
  },
  {
   "cell_type": "markdown",
   "source": [
    "## Save Model"
   ],
   "metadata": {
    "collapsed": false
   }
  },
  {
   "cell_type": "code",
   "execution_count": 130,
   "outputs": [],
   "source": [
    "torch.save(model.state_dict(), \"../models/draft_evaluation_model.pth\")"
   ],
   "metadata": {
    "collapsed": false
   }
  },
  {
   "cell_type": "code",
   "execution_count": 131,
   "outputs": [
    {
     "data": {
      "text/plain": "<All keys matched successfully>"
     },
     "execution_count": 131,
     "metadata": {},
     "output_type": "execute_result"
    }
   ],
   "source": [
    "model.load_state_dict(torch.load('../models/draft_evaluation_model.pth'))"
   ],
   "metadata": {
    "collapsed": false
   }
  },
  {
   "cell_type": "code",
   "execution_count": 132,
   "outputs": [
    {
     "data": {
      "text/plain": "NeuralNetwork(\n  (flatten): Flatten(start_dim=1, end_dim=-1)\n  (linear_relu_stack): Sequential(\n    (0): Linear(in_features=819, out_features=2000, bias=True)\n    (1): ReLU()\n    (2): Linear(in_features=2000, out_features=512, bias=True)\n    (3): ReLU()\n    (4): Linear(in_features=512, out_features=200, bias=True)\n    (5): ReLU()\n    (6): Linear(in_features=200, out_features=100, bias=True)\n  )\n)"
     },
     "execution_count": 132,
     "metadata": {},
     "output_type": "execute_result"
    }
   ],
   "source": [
    "model.eval()"
   ],
   "metadata": {
    "collapsed": false
   }
  },
  {
   "cell_type": "markdown",
   "source": [
    "# Random Forest\n"
   ],
   "metadata": {
    "collapsed": false
   }
  },
  {
   "cell_type": "code",
   "execution_count": null,
   "outputs": [],
   "source": [],
   "metadata": {
    "collapsed": false
   }
  }
 ],
 "metadata": {
  "kernelspec": {
   "display_name": "Python 3",
   "language": "python",
   "name": "python3"
  },
  "language_info": {
   "codemirror_mode": {
    "name": "ipython",
    "version": 2
   },
   "file_extension": ".py",
   "mimetype": "text/x-python",
   "name": "python",
   "nbconvert_exporter": "python",
   "pygments_lexer": "ipython2",
   "version": "2.7.6"
  }
 },
 "nbformat": 4,
 "nbformat_minor": 0
}
