{
 "cells": [
  {
   "cell_type": "code",
   "execution_count": 1,
   "metadata": {
    "collapsed": true
   },
   "outputs": [],
   "source": [
    "import sys\n",
    "\n",
    "# setting path\n",
    "sys.path.append('..')"
   ]
  },
  {
   "cell_type": "code",
   "execution_count": 54,
   "outputs": [],
   "source": [
    "# outside package\n",
    "import pandas as pd\n",
    "from sklearn.model_selection import train_test_split, GridSearchCV\n",
    "import torch\n",
    "from torch import nn\n",
    "from torch.utils.data import DataLoader, TensorDataset\n",
    "from sklearn.tree import DecisionTreeClassifier\n",
    "from sklearn.ensemble import RandomForestClassifier\n",
    "from sklearn.metrics import confusion_matrix, precision_score, recall_score, f1_score, roc_auc_score\n",
    "from xgboost import XGBClassifier\n",
    "import pickle"
   ],
   "metadata": {
    "collapsed": false
   }
  },
  {
   "cell_type": "markdown",
   "source": [
    "# Read Data"
   ],
   "metadata": {
    "collapsed": false
   }
  },
  {
   "cell_type": "code",
   "execution_count": 3,
   "outputs": [
    {
     "data": {
      "text/plain": "   id            name  win_rate  against_hero_1  against_hero_2  \\\n0   1       Anti-Mage  0.489100             NaN        0.566667   \n1   2             Axe  0.485514        0.433333             NaN   \n2   3            Bane  0.552398        0.535211        0.525424   \n3   4     Bloodseeker  0.496582        0.552632        0.423077   \n4   5  Crystal Maiden  0.496833        0.558140        0.528736   \n\n   against_hero_3  against_hero_4  against_hero_5  against_hero_6  \\\n0        0.464789        0.447368        0.441860        0.608696   \n1        0.474576        0.576923        0.471264        0.507937   \n2             NaN        0.605042        0.576087        0.495413   \n3        0.394958             NaN        0.589147        0.480769   \n4        0.423913        0.410853             NaN        0.491124   \n\n   against_hero_7  ...  against_hero_119  against_hero_120  against_hero_121  \\\n0        0.588235  ...          0.545455          0.500000          0.535433   \n1        0.666667  ...          0.473684          0.482143          0.474227   \n2        0.562500  ...          0.516129          0.530928          0.592018   \n3        0.490909  ...          0.480000          0.515513          0.620321   \n4        0.461538  ...          0.519481          0.507519          0.550296   \n\n   against_hero_123  against_hero_126  against_hero_128  against_hero_129  \\\n0          0.381579          0.477273          0.460526          0.413793   \n1          0.508475          0.486486          0.490196          0.544828   \n2          0.617925          0.616822          0.595745          0.583984   \n3          0.537313          0.567164          0.506550          0.517647   \n4          0.516807          0.400000          0.482085          0.538462   \n\n   against_hero_135  against_hero_136  against_hero_137  \n0          0.428571          0.520000          0.521739  \n1          0.419355          0.471429          0.392857  \n2          0.547945          0.490066          0.589744  \n3          0.517413          0.483871          0.387755  \n4          0.492593          0.490141          0.514851  \n\n[5 rows x 126 columns]",
      "text/html": "<div>\n<style scoped>\n    .dataframe tbody tr th:only-of-type {\n        vertical-align: middle;\n    }\n\n    .dataframe tbody tr th {\n        vertical-align: top;\n    }\n\n    .dataframe thead th {\n        text-align: right;\n    }\n</style>\n<table border=\"1\" class=\"dataframe\">\n  <thead>\n    <tr style=\"text-align: right;\">\n      <th></th>\n      <th>id</th>\n      <th>name</th>\n      <th>win_rate</th>\n      <th>against_hero_1</th>\n      <th>against_hero_2</th>\n      <th>against_hero_3</th>\n      <th>against_hero_4</th>\n      <th>against_hero_5</th>\n      <th>against_hero_6</th>\n      <th>against_hero_7</th>\n      <th>...</th>\n      <th>against_hero_119</th>\n      <th>against_hero_120</th>\n      <th>against_hero_121</th>\n      <th>against_hero_123</th>\n      <th>against_hero_126</th>\n      <th>against_hero_128</th>\n      <th>against_hero_129</th>\n      <th>against_hero_135</th>\n      <th>against_hero_136</th>\n      <th>against_hero_137</th>\n    </tr>\n  </thead>\n  <tbody>\n    <tr>\n      <th>0</th>\n      <td>1</td>\n      <td>Anti-Mage</td>\n      <td>0.489100</td>\n      <td>NaN</td>\n      <td>0.566667</td>\n      <td>0.464789</td>\n      <td>0.447368</td>\n      <td>0.441860</td>\n      <td>0.608696</td>\n      <td>0.588235</td>\n      <td>...</td>\n      <td>0.545455</td>\n      <td>0.500000</td>\n      <td>0.535433</td>\n      <td>0.381579</td>\n      <td>0.477273</td>\n      <td>0.460526</td>\n      <td>0.413793</td>\n      <td>0.428571</td>\n      <td>0.520000</td>\n      <td>0.521739</td>\n    </tr>\n    <tr>\n      <th>1</th>\n      <td>2</td>\n      <td>Axe</td>\n      <td>0.485514</td>\n      <td>0.433333</td>\n      <td>NaN</td>\n      <td>0.474576</td>\n      <td>0.576923</td>\n      <td>0.471264</td>\n      <td>0.507937</td>\n      <td>0.666667</td>\n      <td>...</td>\n      <td>0.473684</td>\n      <td>0.482143</td>\n      <td>0.474227</td>\n      <td>0.508475</td>\n      <td>0.486486</td>\n      <td>0.490196</td>\n      <td>0.544828</td>\n      <td>0.419355</td>\n      <td>0.471429</td>\n      <td>0.392857</td>\n    </tr>\n    <tr>\n      <th>2</th>\n      <td>3</td>\n      <td>Bane</td>\n      <td>0.552398</td>\n      <td>0.535211</td>\n      <td>0.525424</td>\n      <td>NaN</td>\n      <td>0.605042</td>\n      <td>0.576087</td>\n      <td>0.495413</td>\n      <td>0.562500</td>\n      <td>...</td>\n      <td>0.516129</td>\n      <td>0.530928</td>\n      <td>0.592018</td>\n      <td>0.617925</td>\n      <td>0.616822</td>\n      <td>0.595745</td>\n      <td>0.583984</td>\n      <td>0.547945</td>\n      <td>0.490066</td>\n      <td>0.589744</td>\n    </tr>\n    <tr>\n      <th>3</th>\n      <td>4</td>\n      <td>Bloodseeker</td>\n      <td>0.496582</td>\n      <td>0.552632</td>\n      <td>0.423077</td>\n      <td>0.394958</td>\n      <td>NaN</td>\n      <td>0.589147</td>\n      <td>0.480769</td>\n      <td>0.490909</td>\n      <td>...</td>\n      <td>0.480000</td>\n      <td>0.515513</td>\n      <td>0.620321</td>\n      <td>0.537313</td>\n      <td>0.567164</td>\n      <td>0.506550</td>\n      <td>0.517647</td>\n      <td>0.517413</td>\n      <td>0.483871</td>\n      <td>0.387755</td>\n    </tr>\n    <tr>\n      <th>4</th>\n      <td>5</td>\n      <td>Crystal Maiden</td>\n      <td>0.496833</td>\n      <td>0.558140</td>\n      <td>0.528736</td>\n      <td>0.423913</td>\n      <td>0.410853</td>\n      <td>NaN</td>\n      <td>0.491124</td>\n      <td>0.461538</td>\n      <td>...</td>\n      <td>0.519481</td>\n      <td>0.507519</td>\n      <td>0.550296</td>\n      <td>0.516807</td>\n      <td>0.400000</td>\n      <td>0.482085</td>\n      <td>0.538462</td>\n      <td>0.492593</td>\n      <td>0.490141</td>\n      <td>0.514851</td>\n    </tr>\n  </tbody>\n</table>\n<p>5 rows × 126 columns</p>\n</div>"
     },
     "execution_count": 3,
     "metadata": {},
     "output_type": "execute_result"
    }
   ],
   "source": [
    "heroes_data = pd.read_csv(\"../data/processed_data/heroes_data.csv\", index_col=0)\n",
    "heroes_data.head()"
   ],
   "metadata": {
    "collapsed": false
   }
  },
  {
   "cell_type": "code",
   "execution_count": 4,
   "outputs": [
    {
     "data": {
      "text/plain": "   id  localized_name  base_health  base_health_regen  base_mana  \\\n0   1       Anti-Mage          200               0.25         75   \n1   2             Axe          200               2.50         75   \n2   3            Bane          200               0.25         75   \n3   4     Bloodseeker          200               0.25         75   \n4   5  Crystal Maiden          200               0.25         75   \n\n   base_mana_regen  base_armor  base_mr  base_attack_min  base_attack_max  \\\n0              0.0         0.0       25               29               33   \n1              0.0        -1.0       25               27               31   \n2              0.0         1.0       25               33               39   \n3              0.0         2.0       25               35               41   \n4              1.0        -1.0       25               28               34   \n\n   ...  Durable  Escape  Initiator  Jungler  Nuker  Pusher  Support  agi  int  \\\n0  ...        0       1          0        0      1       0        0    1    0   \n1  ...        1       0          1        1      0       0        0    0    0   \n2  ...        1       0          0        0      1       0        1    0    1   \n3  ...        0       0          1        1      1       0        0    1    0   \n4  ...        0       0          0        1      1       0        1    0    1   \n\n   Melee  \n0      1  \n1      1  \n2      0  \n3      1  \n4      0  \n\n[5 rows x 35 columns]",
      "text/html": "<div>\n<style scoped>\n    .dataframe tbody tr th:only-of-type {\n        vertical-align: middle;\n    }\n\n    .dataframe tbody tr th {\n        vertical-align: top;\n    }\n\n    .dataframe thead th {\n        text-align: right;\n    }\n</style>\n<table border=\"1\" class=\"dataframe\">\n  <thead>\n    <tr style=\"text-align: right;\">\n      <th></th>\n      <th>id</th>\n      <th>localized_name</th>\n      <th>base_health</th>\n      <th>base_health_regen</th>\n      <th>base_mana</th>\n      <th>base_mana_regen</th>\n      <th>base_armor</th>\n      <th>base_mr</th>\n      <th>base_attack_min</th>\n      <th>base_attack_max</th>\n      <th>...</th>\n      <th>Durable</th>\n      <th>Escape</th>\n      <th>Initiator</th>\n      <th>Jungler</th>\n      <th>Nuker</th>\n      <th>Pusher</th>\n      <th>Support</th>\n      <th>agi</th>\n      <th>int</th>\n      <th>Melee</th>\n    </tr>\n  </thead>\n  <tbody>\n    <tr>\n      <th>0</th>\n      <td>1</td>\n      <td>Anti-Mage</td>\n      <td>200</td>\n      <td>0.25</td>\n      <td>75</td>\n      <td>0.0</td>\n      <td>0.0</td>\n      <td>25</td>\n      <td>29</td>\n      <td>33</td>\n      <td>...</td>\n      <td>0</td>\n      <td>1</td>\n      <td>0</td>\n      <td>0</td>\n      <td>1</td>\n      <td>0</td>\n      <td>0</td>\n      <td>1</td>\n      <td>0</td>\n      <td>1</td>\n    </tr>\n    <tr>\n      <th>1</th>\n      <td>2</td>\n      <td>Axe</td>\n      <td>200</td>\n      <td>2.50</td>\n      <td>75</td>\n      <td>0.0</td>\n      <td>-1.0</td>\n      <td>25</td>\n      <td>27</td>\n      <td>31</td>\n      <td>...</td>\n      <td>1</td>\n      <td>0</td>\n      <td>1</td>\n      <td>1</td>\n      <td>0</td>\n      <td>0</td>\n      <td>0</td>\n      <td>0</td>\n      <td>0</td>\n      <td>1</td>\n    </tr>\n    <tr>\n      <th>2</th>\n      <td>3</td>\n      <td>Bane</td>\n      <td>200</td>\n      <td>0.25</td>\n      <td>75</td>\n      <td>0.0</td>\n      <td>1.0</td>\n      <td>25</td>\n      <td>33</td>\n      <td>39</td>\n      <td>...</td>\n      <td>1</td>\n      <td>0</td>\n      <td>0</td>\n      <td>0</td>\n      <td>1</td>\n      <td>0</td>\n      <td>1</td>\n      <td>0</td>\n      <td>1</td>\n      <td>0</td>\n    </tr>\n    <tr>\n      <th>3</th>\n      <td>4</td>\n      <td>Bloodseeker</td>\n      <td>200</td>\n      <td>0.25</td>\n      <td>75</td>\n      <td>0.0</td>\n      <td>2.0</td>\n      <td>25</td>\n      <td>35</td>\n      <td>41</td>\n      <td>...</td>\n      <td>0</td>\n      <td>0</td>\n      <td>1</td>\n      <td>1</td>\n      <td>1</td>\n      <td>0</td>\n      <td>0</td>\n      <td>1</td>\n      <td>0</td>\n      <td>1</td>\n    </tr>\n    <tr>\n      <th>4</th>\n      <td>5</td>\n      <td>Crystal Maiden</td>\n      <td>200</td>\n      <td>0.25</td>\n      <td>75</td>\n      <td>1.0</td>\n      <td>-1.0</td>\n      <td>25</td>\n      <td>28</td>\n      <td>34</td>\n      <td>...</td>\n      <td>0</td>\n      <td>0</td>\n      <td>0</td>\n      <td>1</td>\n      <td>1</td>\n      <td>0</td>\n      <td>1</td>\n      <td>0</td>\n      <td>1</td>\n      <td>0</td>\n    </tr>\n  </tbody>\n</table>\n<p>5 rows × 35 columns</p>\n</div>"
     },
     "execution_count": 4,
     "metadata": {},
     "output_type": "execute_result"
    }
   ],
   "source": [
    "heroes_stats = pd.read_csv(\"../data/processed_data/heroes_stats.csv\", index_col=0)\n",
    "heroes_stats.head()"
   ],
   "metadata": {
    "collapsed": false
   }
  },
  {
   "cell_type": "code",
   "execution_count": 5,
   "outputs": [
    {
     "data": {
      "text/plain": "     match_id  radiant_win  region  patch  first_pick_team  selection_0  \\\n0  6974098635        False       3     51                0          100   \n1  6530275776        False       3     50                0           90   \n2  6164211366        False      17     49                1           51   \n3  6423063194         True       3     49                0           39   \n4  6445858823         True       5     49                1          129   \n\n   selection_1  selection_2  selection_3  selection_4  ...  selection_14  \\\n0           97           86           19          103  ...            69   \n1           16          120           43           85  ...            13   \n2           88          129           25          103  ...            75   \n3           71           23           63            3  ...            68   \n4           23           71           91           63  ...           114   \n\n   selection_15  selection_16  selection_17  selection_18  selection_19  \\\n0            71           114            89            13            52   \n1           107           121            72            64            25   \n2            47           106            54            77            10   \n3            86            94             1            88            21   \n4            64            39           106           121            44   \n\n   selection_20  selection_21  selection_22  selection_23  \n0            76           106           129            39  \n1            91            47            15            61  \n2            28            15            95            98  \n3            79            13           114           100  \n4            48            95            25             9  \n\n[5 rows x 29 columns]",
      "text/html": "<div>\n<style scoped>\n    .dataframe tbody tr th:only-of-type {\n        vertical-align: middle;\n    }\n\n    .dataframe tbody tr th {\n        vertical-align: top;\n    }\n\n    .dataframe thead th {\n        text-align: right;\n    }\n</style>\n<table border=\"1\" class=\"dataframe\">\n  <thead>\n    <tr style=\"text-align: right;\">\n      <th></th>\n      <th>match_id</th>\n      <th>radiant_win</th>\n      <th>region</th>\n      <th>patch</th>\n      <th>first_pick_team</th>\n      <th>selection_0</th>\n      <th>selection_1</th>\n      <th>selection_2</th>\n      <th>selection_3</th>\n      <th>selection_4</th>\n      <th>...</th>\n      <th>selection_14</th>\n      <th>selection_15</th>\n      <th>selection_16</th>\n      <th>selection_17</th>\n      <th>selection_18</th>\n      <th>selection_19</th>\n      <th>selection_20</th>\n      <th>selection_21</th>\n      <th>selection_22</th>\n      <th>selection_23</th>\n    </tr>\n  </thead>\n  <tbody>\n    <tr>\n      <th>0</th>\n      <td>6974098635</td>\n      <td>False</td>\n      <td>3</td>\n      <td>51</td>\n      <td>0</td>\n      <td>100</td>\n      <td>97</td>\n      <td>86</td>\n      <td>19</td>\n      <td>103</td>\n      <td>...</td>\n      <td>69</td>\n      <td>71</td>\n      <td>114</td>\n      <td>89</td>\n      <td>13</td>\n      <td>52</td>\n      <td>76</td>\n      <td>106</td>\n      <td>129</td>\n      <td>39</td>\n    </tr>\n    <tr>\n      <th>1</th>\n      <td>6530275776</td>\n      <td>False</td>\n      <td>3</td>\n      <td>50</td>\n      <td>0</td>\n      <td>90</td>\n      <td>16</td>\n      <td>120</td>\n      <td>43</td>\n      <td>85</td>\n      <td>...</td>\n      <td>13</td>\n      <td>107</td>\n      <td>121</td>\n      <td>72</td>\n      <td>64</td>\n      <td>25</td>\n      <td>91</td>\n      <td>47</td>\n      <td>15</td>\n      <td>61</td>\n    </tr>\n    <tr>\n      <th>2</th>\n      <td>6164211366</td>\n      <td>False</td>\n      <td>17</td>\n      <td>49</td>\n      <td>1</td>\n      <td>51</td>\n      <td>88</td>\n      <td>129</td>\n      <td>25</td>\n      <td>103</td>\n      <td>...</td>\n      <td>75</td>\n      <td>47</td>\n      <td>106</td>\n      <td>54</td>\n      <td>77</td>\n      <td>10</td>\n      <td>28</td>\n      <td>15</td>\n      <td>95</td>\n      <td>98</td>\n    </tr>\n    <tr>\n      <th>3</th>\n      <td>6423063194</td>\n      <td>True</td>\n      <td>3</td>\n      <td>49</td>\n      <td>0</td>\n      <td>39</td>\n      <td>71</td>\n      <td>23</td>\n      <td>63</td>\n      <td>3</td>\n      <td>...</td>\n      <td>68</td>\n      <td>86</td>\n      <td>94</td>\n      <td>1</td>\n      <td>88</td>\n      <td>21</td>\n      <td>79</td>\n      <td>13</td>\n      <td>114</td>\n      <td>100</td>\n    </tr>\n    <tr>\n      <th>4</th>\n      <td>6445858823</td>\n      <td>True</td>\n      <td>5</td>\n      <td>49</td>\n      <td>1</td>\n      <td>129</td>\n      <td>23</td>\n      <td>71</td>\n      <td>91</td>\n      <td>63</td>\n      <td>...</td>\n      <td>114</td>\n      <td>64</td>\n      <td>39</td>\n      <td>106</td>\n      <td>121</td>\n      <td>44</td>\n      <td>48</td>\n      <td>95</td>\n      <td>25</td>\n      <td>9</td>\n    </tr>\n  </tbody>\n</table>\n<p>5 rows × 29 columns</p>\n</div>"
     },
     "execution_count": 5,
     "metadata": {},
     "output_type": "execute_result"
    }
   ],
   "source": [
    "data = pd.read_csv(\"../data/processed_data/data.json\", index_col=0)\n",
    "data.head()"
   ],
   "metadata": {
    "collapsed": false
   }
  },
  {
   "cell_type": "code",
   "execution_count": 6,
   "outputs": [
    {
     "data": {
      "text/plain": "     match_id  radiant_win  region  patch  first_pick_team  selection_0_id  \\\n0  6974098635        False       3     51                0             100   \n1  6992915881         True       3     51                1              14   \n2  6085918133         True      10     48                1              47   \n3  6619687384        False      13     50                1              92   \n4  6092247026         True       5     48                1              47   \n\n   selection_0_base_health  selection_0_base_health_regen  \\\n0                      200                           1.00   \n1                      200                           2.00   \n2                      200                           0.25   \n3                      200                           0.25   \n4                      200                           0.25   \n\n   selection_0_base_mana  selection_0_base_mana_regen  ...  \\\n0                     75                          0.5  ...   \n1                     75                          0.0  ...   \n2                     75                          0.0  ...   \n3                     75                          0.0  ...   \n4                     75                          0.0  ...   \n\n   selection_23_Durable  selection_23_Escape  selection_23_Initiator  \\\n0                     0                    1                       0   \n1                     0                    1                       0   \n2                     0                    1                       0   \n3                     0                    1                       0   \n4                     0                    1                       0   \n\n   selection_23_Jungler  selection_23_Nuker  selection_23_Pusher  \\\n0                     0                   1                    0   \n1                     0                   1                    0   \n2                     0                   1                    0   \n3                     0                   1                    0   \n4                     0                   1                    0   \n\n   selection_23_Support  selection_23_agi  selection_23_int  \\\n0                     0                 0                 1   \n1                     0                 0                 1   \n2                     0                 0                 1   \n3                     0                 0                 1   \n4                     0                 0                 1   \n\n   selection_23_Melee  \n0                   0  \n1                   0  \n2                   0  \n3                   0  \n4                   0  \n\n[5 rows x 821 columns]",
      "text/html": "<div>\n<style scoped>\n    .dataframe tbody tr th:only-of-type {\n        vertical-align: middle;\n    }\n\n    .dataframe tbody tr th {\n        vertical-align: top;\n    }\n\n    .dataframe thead th {\n        text-align: right;\n    }\n</style>\n<table border=\"1\" class=\"dataframe\">\n  <thead>\n    <tr style=\"text-align: right;\">\n      <th></th>\n      <th>match_id</th>\n      <th>radiant_win</th>\n      <th>region</th>\n      <th>patch</th>\n      <th>first_pick_team</th>\n      <th>selection_0_id</th>\n      <th>selection_0_base_health</th>\n      <th>selection_0_base_health_regen</th>\n      <th>selection_0_base_mana</th>\n      <th>selection_0_base_mana_regen</th>\n      <th>...</th>\n      <th>selection_23_Durable</th>\n      <th>selection_23_Escape</th>\n      <th>selection_23_Initiator</th>\n      <th>selection_23_Jungler</th>\n      <th>selection_23_Nuker</th>\n      <th>selection_23_Pusher</th>\n      <th>selection_23_Support</th>\n      <th>selection_23_agi</th>\n      <th>selection_23_int</th>\n      <th>selection_23_Melee</th>\n    </tr>\n  </thead>\n  <tbody>\n    <tr>\n      <th>0</th>\n      <td>6974098635</td>\n      <td>False</td>\n      <td>3</td>\n      <td>51</td>\n      <td>0</td>\n      <td>100</td>\n      <td>200</td>\n      <td>1.00</td>\n      <td>75</td>\n      <td>0.5</td>\n      <td>...</td>\n      <td>0</td>\n      <td>1</td>\n      <td>0</td>\n      <td>0</td>\n      <td>1</td>\n      <td>0</td>\n      <td>0</td>\n      <td>0</td>\n      <td>1</td>\n      <td>0</td>\n    </tr>\n    <tr>\n      <th>1</th>\n      <td>6992915881</td>\n      <td>True</td>\n      <td>3</td>\n      <td>51</td>\n      <td>1</td>\n      <td>14</td>\n      <td>200</td>\n      <td>2.00</td>\n      <td>75</td>\n      <td>0.0</td>\n      <td>...</td>\n      <td>0</td>\n      <td>1</td>\n      <td>0</td>\n      <td>0</td>\n      <td>1</td>\n      <td>0</td>\n      <td>0</td>\n      <td>0</td>\n      <td>1</td>\n      <td>0</td>\n    </tr>\n    <tr>\n      <th>2</th>\n      <td>6085918133</td>\n      <td>True</td>\n      <td>10</td>\n      <td>48</td>\n      <td>1</td>\n      <td>47</td>\n      <td>200</td>\n      <td>0.25</td>\n      <td>75</td>\n      <td>0.0</td>\n      <td>...</td>\n      <td>0</td>\n      <td>1</td>\n      <td>0</td>\n      <td>0</td>\n      <td>1</td>\n      <td>0</td>\n      <td>0</td>\n      <td>0</td>\n      <td>1</td>\n      <td>0</td>\n    </tr>\n    <tr>\n      <th>3</th>\n      <td>6619687384</td>\n      <td>False</td>\n      <td>13</td>\n      <td>50</td>\n      <td>1</td>\n      <td>92</td>\n      <td>200</td>\n      <td>0.25</td>\n      <td>75</td>\n      <td>0.0</td>\n      <td>...</td>\n      <td>0</td>\n      <td>1</td>\n      <td>0</td>\n      <td>0</td>\n      <td>1</td>\n      <td>0</td>\n      <td>0</td>\n      <td>0</td>\n      <td>1</td>\n      <td>0</td>\n    </tr>\n    <tr>\n      <th>4</th>\n      <td>6092247026</td>\n      <td>True</td>\n      <td>5</td>\n      <td>48</td>\n      <td>1</td>\n      <td>47</td>\n      <td>200</td>\n      <td>0.25</td>\n      <td>75</td>\n      <td>0.0</td>\n      <td>...</td>\n      <td>0</td>\n      <td>1</td>\n      <td>0</td>\n      <td>0</td>\n      <td>1</td>\n      <td>0</td>\n      <td>0</td>\n      <td>0</td>\n      <td>1</td>\n      <td>0</td>\n    </tr>\n  </tbody>\n</table>\n<p>5 rows × 821 columns</p>\n</div>"
     },
     "execution_count": 6,
     "metadata": {},
     "output_type": "execute_result"
    }
   ],
   "source": [
    "merged_data = pd.read_csv(\"../data/processed_data/merged_data.csv\", index_col=0)\n",
    "merged_data.head()"
   ],
   "metadata": {
    "collapsed": false
   }
  },
  {
   "cell_type": "markdown",
   "source": [
    "# Prepare Data For Training"
   ],
   "metadata": {
    "collapsed": false
   }
  },
  {
   "cell_type": "code",
   "execution_count": 7,
   "outputs": [],
   "source": [
    "X = merged_data.drop([\"match_id\", \"radiant_win\"], axis=1)\n",
    "y = merged_data[\"radiant_win\"]"
   ],
   "metadata": {
    "collapsed": false
   }
  },
  {
   "cell_type": "code",
   "execution_count": 8,
   "outputs": [],
   "source": [
    "X_train, X_test, y_train, y_test = train_test_split(X, y, test_size=0.2, random_state=666)"
   ],
   "metadata": {
    "collapsed": false
   }
  },
  {
   "cell_type": "code",
   "execution_count": 9,
   "outputs": [
    {
     "data": {
      "text/plain": "0.49858133103473046"
     },
     "execution_count": 9,
     "metadata": {},
     "output_type": "execute_result"
    }
   ],
   "source": [
    "y_train.mean()"
   ],
   "metadata": {
    "collapsed": false
   }
  },
  {
   "cell_type": "code",
   "execution_count": 10,
   "outputs": [
    {
     "data": {
      "text/plain": "0.5033759517310731"
     },
     "execution_count": 10,
     "metadata": {},
     "output_type": "execute_result"
    }
   ],
   "source": [
    "y_test.mean()"
   ],
   "metadata": {
    "collapsed": false
   }
  },
  {
   "cell_type": "markdown",
   "source": [
    "# Neural Network"
   ],
   "metadata": {
    "collapsed": false
   }
  },
  {
   "cell_type": "code",
   "execution_count": 11,
   "outputs": [
    {
     "name": "stdout",
     "output_type": "stream",
     "text": [
      "Using cuda device\n"
     ]
    }
   ],
   "source": [
    "device = \"cuda\" if torch.cuda.is_available() else \"mps\" if torch.backends.mps.is_available() else \"cpu\"\n",
    "print(f\"Using {device} device\")"
   ],
   "metadata": {
    "collapsed": false
   }
  },
  {
   "cell_type": "markdown",
   "source": [
    "Convert Data to Tensor"
   ],
   "metadata": {
    "collapsed": false
   }
  },
  {
   "cell_type": "code",
   "execution_count": 12,
   "outputs": [],
   "source": [
    "training_data = TensorDataset(torch.Tensor(X_train.values), torch.Tensor(y_train.values))\n",
    "test_data = TensorDataset(torch.Tensor(X_test.values), torch.Tensor(y_test.values))"
   ],
   "metadata": {
    "collapsed": false
   }
  },
  {
   "cell_type": "markdown",
   "source": [
    "Create Data Loader"
   ],
   "metadata": {
    "collapsed": false
   }
  },
  {
   "cell_type": "code",
   "execution_count": 13,
   "outputs": [],
   "source": [
    "training_dataloader = DataLoader(training_data, batch_size=10, shuffle=True, num_workers=0)\n",
    "test_dataloader = DataLoader(test_data, batch_size=10, shuffle=True, num_workers=0)"
   ],
   "metadata": {
    "collapsed": false
   }
  },
  {
   "cell_type": "code",
   "execution_count": 14,
   "outputs": [
    {
     "name": "stdout",
     "output_type": "stream",
     "text": [
      "Shape of X [N, C]: torch.Size([10, 819])\n",
      "Shape of y: torch.Size([10]) torch.float32\n"
     ]
    }
   ],
   "source": [
    "for X, y in test_dataloader:\n",
    "    print(f\"Shape of X [N, C]: {X.shape}\")\n",
    "    print(f\"Shape of y: {y.shape} {y.dtype}\")\n",
    "    break"
   ],
   "metadata": {
    "collapsed": false
   }
  },
  {
   "cell_type": "code",
   "execution_count": 15,
   "outputs": [
    {
     "name": "stdout",
     "output_type": "stream",
     "text": [
      "NeuralNetwork(\n",
      "  (flatten): Flatten(start_dim=1, end_dim=-1)\n",
      "  (linear_relu_stack): Sequential(\n",
      "    (0): Linear(in_features=819, out_features=2000, bias=True)\n",
      "    (1): ReLU()\n",
      "    (2): Linear(in_features=2000, out_features=512, bias=True)\n",
      "    (3): ReLU()\n",
      "    (4): Linear(in_features=512, out_features=200, bias=True)\n",
      "    (5): ReLU()\n",
      "    (6): Linear(in_features=200, out_features=1, bias=True)\n",
      "    (7): Sigmoid()\n",
      "  )\n",
      ")\n"
     ]
    }
   ],
   "source": [
    "# Define model\n",
    "class NeuralNetwork(nn.Module):\n",
    "    def __init__(self):\n",
    "        super().__init__()\n",
    "        self.flatten = nn.Flatten()\n",
    "        self.linear_relu_stack = nn.Sequential(\n",
    "            nn.Linear(819, 2000),\n",
    "            nn.ReLU(),\n",
    "            nn.Linear(2000, 512),\n",
    "            nn.ReLU(),\n",
    "            nn.Linear(512, 200),\n",
    "            nn.ReLU(),\n",
    "            nn.Linear(200, 1),\n",
    "            nn.Sigmoid()\n",
    "        )\n",
    "\n",
    "    def forward(self, x):\n",
    "        x = self.flatten(x)\n",
    "        logits = self.linear_relu_stack(x)\n",
    "        return logits\n",
    "\n",
    "\n",
    "model = NeuralNetwork().to(device)\n",
    "print(model)"
   ],
   "metadata": {
    "collapsed": false
   }
  },
  {
   "cell_type": "code",
   "execution_count": 16,
   "outputs": [],
   "source": [
    "loss_fn = nn.BCELoss()\n",
    "optimizer = torch.optim.Adam(model.parameters(), lr=1e-3)"
   ],
   "metadata": {
    "collapsed": false
   }
  },
  {
   "cell_type": "code",
   "execution_count": 17,
   "outputs": [],
   "source": [
    "def train(dataloader, model, loss_fn, optimizer):\n",
    "    size = len(dataloader.dataset)\n",
    "    model.train()\n",
    "    for batch, (X, y) in enumerate(dataloader):\n",
    "        X, y = X.to(device), y.to(device)\n",
    "\n",
    "        # Compute prediction error\n",
    "        pred = model(X).flatten()\n",
    "        loss = loss_fn(pred, y)\n",
    "\n",
    "        # Backpropagation\n",
    "        optimizer.zero_grad()\n",
    "        loss.backward()\n",
    "        optimizer.step()\n",
    "\n",
    "        if batch % 400 == 0:\n",
    "            loss, current = loss.item(), batch * len(X)\n",
    "            print(f\"loss: {loss:>7f}  [{current:>5d}/{size:>5d}]\")\n"
   ],
   "metadata": {
    "collapsed": false
   }
  },
  {
   "cell_type": "code",
   "execution_count": 18,
   "outputs": [],
   "source": [
    "def test(dataloader, model, loss_fn):\n",
    "    size = len(dataloader.dataset)\n",
    "    num_batches = len(dataloader)\n",
    "    model.eval()\n",
    "    test_loss, correct = 0, 0\n",
    "    # optimize calculation time\n",
    "    with torch.no_grad():\n",
    "        for X, y in dataloader:\n",
    "            y = y\n",
    "            X, y = X.to(device), y.to(device)\n",
    "            pred = model(X).flatten()\n",
    "            test_loss += loss_fn(pred, y).item()\n",
    "            correct += (pred == y).type(torch.float).sum().item()\n",
    "    test_loss /= num_batches\n",
    "    correct /= size\n",
    "    print(f\"Test Error: \\n Accuracy: {(100 * correct):>0.1f}%, Avg loss: {test_loss:>8f} \\n\")\n"
   ],
   "metadata": {
    "collapsed": false
   }
  },
  {
   "cell_type": "code",
   "execution_count": 19,
   "outputs": [
    {
     "name": "stdout",
     "output_type": "stream",
     "text": [
      "Epoch 1\n",
      "-------------------------------\n",
      "loss: 1.595490  [    0/27843]\n",
      "loss: 60.000000  [ 4000/27843]\n",
      "loss: 40.000000  [ 8000/27843]\n",
      "loss: 60.000000  [12000/27843]\n",
      "loss: 30.000000  [16000/27843]\n",
      "loss: 30.000000  [20000/27843]\n",
      "loss: 40.000000  [24000/27843]\n",
      "Test Error: \n",
      " Accuracy: 49.7%, Avg loss: 50.401722 \n",
      "\n",
      "Epoch 2\n",
      "-------------------------------\n",
      "loss: 60.000000  [    0/27843]\n",
      "loss: 70.000000  [ 4000/27843]\n",
      "loss: 50.000000  [ 8000/27843]\n",
      "loss: 70.000000  [12000/27843]\n",
      "loss: 20.000000  [16000/27843]\n",
      "loss: 20.000000  [20000/27843]\n",
      "loss: 20.000000  [24000/27843]\n",
      "Test Error: \n",
      " Accuracy: 49.7%, Avg loss: 50.272597 \n",
      "\n",
      "Epoch 3\n",
      "-------------------------------\n",
      "loss: 50.000000  [    0/27843]\n",
      "loss: 20.000000  [ 4000/27843]\n",
      "loss: 60.000000  [ 8000/27843]\n",
      "loss: 70.000000  [12000/27843]\n",
      "loss: 60.000000  [16000/27843]\n",
      "loss: 50.000000  [20000/27843]\n",
      "loss: 40.000000  [24000/27843]\n",
      "Test Error: \n",
      " Accuracy: 49.7%, Avg loss: 50.272597 \n",
      "\n",
      "Epoch 4\n",
      "-------------------------------\n",
      "loss: 50.000000  [    0/27843]\n",
      "loss: 30.000000  [ 4000/27843]\n",
      "loss: 40.000000  [ 8000/27843]\n",
      "loss: 20.000000  [12000/27843]\n",
      "loss: 80.000000  [16000/27843]\n",
      "loss: 50.000000  [20000/27843]\n",
      "loss: 60.000000  [24000/27843]\n",
      "Test Error: \n",
      " Accuracy: 49.7%, Avg loss: 50.272597 \n",
      "\n",
      "Epoch 5\n",
      "-------------------------------\n",
      "loss: 80.000000  [    0/27843]\n",
      "loss: 60.000000  [ 4000/27843]\n",
      "loss: 70.000000  [ 8000/27843]\n",
      "loss: 60.000000  [12000/27843]\n",
      "loss: 60.000000  [16000/27843]\n",
      "loss: 40.000000  [20000/27843]\n",
      "loss: 100.000000  [24000/27843]\n",
      "Test Error: \n",
      " Accuracy: 49.7%, Avg loss: 50.272597 \n",
      "\n",
      "Epoch 6\n",
      "-------------------------------\n",
      "loss: 60.000000  [    0/27843]\n",
      "loss: 90.000000  [ 4000/27843]\n",
      "loss: 80.000000  [ 8000/27843]\n",
      "loss: 60.000000  [12000/27843]\n",
      "loss: 30.000000  [16000/27843]\n",
      "loss: 60.000000  [20000/27843]\n",
      "loss: 50.000000  [24000/27843]\n",
      "Test Error: \n",
      " Accuracy: 49.7%, Avg loss: 50.401722 \n",
      "\n",
      "Epoch 7\n",
      "-------------------------------\n",
      "loss: 70.000000  [    0/27843]\n",
      "loss: 50.000000  [ 4000/27843]\n",
      "loss: 60.000000  [ 8000/27843]\n",
      "loss: 80.000000  [12000/27843]\n",
      "loss: 70.000000  [16000/27843]\n",
      "loss: 70.000000  [20000/27843]\n",
      "loss: 50.000000  [24000/27843]\n",
      "Test Error: \n",
      " Accuracy: 49.7%, Avg loss: 50.401722 \n",
      "\n",
      "Epoch 8\n",
      "-------------------------------\n",
      "loss: 30.000000  [    0/27843]\n",
      "loss: 20.000000  [ 4000/27843]\n",
      "loss: 70.000000  [ 8000/27843]\n",
      "loss: 30.000000  [12000/27843]\n",
      "loss: 60.000000  [16000/27843]\n",
      "loss: 50.000000  [20000/27843]\n",
      "loss: 20.000000  [24000/27843]\n",
      "Test Error: \n",
      " Accuracy: 49.7%, Avg loss: 50.272597 \n",
      "\n",
      "Epoch 9\n",
      "-------------------------------\n",
      "loss: 30.000000  [    0/27843]\n",
      "loss: 50.000000  [ 4000/27843]\n",
      "loss: 50.000000  [ 8000/27843]\n",
      "loss: 60.000000  [12000/27843]\n",
      "loss: 40.000000  [16000/27843]\n",
      "loss: 20.000000  [20000/27843]\n",
      "loss: 40.000000  [24000/27843]\n",
      "Test Error: \n",
      " Accuracy: 49.7%, Avg loss: 50.401722 \n",
      "\n",
      "Epoch 10\n",
      "-------------------------------\n",
      "loss: 60.000000  [    0/27843]\n",
      "loss: 40.000000  [ 4000/27843]\n",
      "loss: 50.000000  [ 8000/27843]\n",
      "loss: 40.000000  [12000/27843]\n",
      "loss: 60.000000  [16000/27843]\n",
      "loss: 90.000000  [20000/27843]\n",
      "loss: 60.000000  [24000/27843]\n",
      "Test Error: \n",
      " Accuracy: 49.7%, Avg loss: 50.272597 \n",
      "\n",
      "Done!\n"
     ]
    }
   ],
   "source": [
    "epochs = 10\n",
    "for t in range(epochs):\n",
    "    print(f\"Epoch {t + 1}\\n-------------------------------\")\n",
    "    train(training_dataloader, model, loss_fn, optimizer)\n",
    "    test(test_dataloader, model, loss_fn)\n",
    "print(\"Done!\")"
   ],
   "metadata": {
    "collapsed": false
   }
  },
  {
   "cell_type": "markdown",
   "source": [
    "## Save Model"
   ],
   "metadata": {
    "collapsed": false
   }
  },
  {
   "cell_type": "code",
   "execution_count": 20,
   "outputs": [],
   "source": [
    "torch.save(model.state_dict(), \"../models/draft_evaluation_model.pth\")"
   ],
   "metadata": {
    "collapsed": false
   }
  },
  {
   "cell_type": "code",
   "execution_count": 19,
   "outputs": [
    {
     "data": {
      "text/plain": "<All keys matched successfully>"
     },
     "execution_count": 19,
     "metadata": {},
     "output_type": "execute_result"
    }
   ],
   "source": [
    "model.load_state_dict(torch.load('../models/draft_evaluation_model.pth'))"
   ],
   "metadata": {
    "collapsed": false
   }
  },
  {
   "cell_type": "code",
   "execution_count": 20,
   "outputs": [
    {
     "data": {
      "text/plain": "NeuralNetwork(\n  (flatten): Flatten(start_dim=1, end_dim=-1)\n  (linear_relu_stack): Sequential(\n    (0): Linear(in_features=819, out_features=2000, bias=True)\n    (1): ReLU()\n    (2): Linear(in_features=2000, out_features=512, bias=True)\n    (3): ReLU()\n    (4): Linear(in_features=512, out_features=200, bias=True)\n    (5): ReLU()\n    (6): Linear(in_features=200, out_features=1, bias=True)\n    (7): Sigmoid()\n  )\n)"
     },
     "execution_count": 20,
     "metadata": {},
     "output_type": "execute_result"
    }
   ],
   "source": [
    "model.eval()"
   ],
   "metadata": {
    "collapsed": false
   }
  },
  {
   "cell_type": "markdown",
   "source": [
    "Predict One Line of Data\n"
   ],
   "metadata": {
    "collapsed": false
   }
  },
  {
   "cell_type": "code",
   "execution_count": 21,
   "outputs": [
    {
     "data": {
      "text/plain": "tensor([[0.]], device='cuda:0', grad_fn=<SigmoidBackward0>)"
     },
     "execution_count": 21,
     "metadata": {},
     "output_type": "execute_result"
    }
   ],
   "source": [
    "model(torch.atleast_2d(torch.Tensor(merged_data.iloc[3].drop([\"match_id\", \"radiant_win\"])).to(device)))"
   ],
   "metadata": {
    "collapsed": false
   }
  },
  {
   "cell_type": "code",
   "execution_count": 22,
   "outputs": [
    {
     "name": "stdout",
     "output_type": "stream",
     "text": [
      "Test Error: \n",
      " Accuracy: 49.7%, Avg loss: 50.401722 \n",
      "\n"
     ]
    }
   ],
   "source": [
    "test(test_dataloader, model, loss_fn)\n"
   ],
   "metadata": {
    "collapsed": false
   }
  },
  {
   "cell_type": "code",
   "execution_count": 23,
   "outputs": [
    {
     "data": {
      "text/plain": "0.5033759517310731"
     },
     "execution_count": 23,
     "metadata": {},
     "output_type": "execute_result"
    }
   ],
   "source": [
    "y_test.mean()"
   ],
   "metadata": {
    "collapsed": false
   }
  },
  {
   "cell_type": "markdown",
   "source": [
    "# Decision Trees\n"
   ],
   "metadata": {
    "collapsed": false
   }
  },
  {
   "cell_type": "code",
   "execution_count": 28,
   "outputs": [],
   "source": [
    "dt = DecisionTreeClassifier()"
   ],
   "metadata": {
    "collapsed": false
   }
  },
  {
   "cell_type": "code",
   "execution_count": 29,
   "outputs": [
    {
     "data": {
      "text/plain": "DecisionTreeClassifier()",
      "text/html": "<style>#sk-container-id-1 {color: black;background-color: white;}#sk-container-id-1 pre{padding: 0;}#sk-container-id-1 div.sk-toggleable {background-color: white;}#sk-container-id-1 label.sk-toggleable__label {cursor: pointer;display: block;width: 100%;margin-bottom: 0;padding: 0.3em;box-sizing: border-box;text-align: center;}#sk-container-id-1 label.sk-toggleable__label-arrow:before {content: \"▸\";float: left;margin-right: 0.25em;color: #696969;}#sk-container-id-1 label.sk-toggleable__label-arrow:hover:before {color: black;}#sk-container-id-1 div.sk-estimator:hover label.sk-toggleable__label-arrow:before {color: black;}#sk-container-id-1 div.sk-toggleable__content {max-height: 0;max-width: 0;overflow: hidden;text-align: left;background-color: #f0f8ff;}#sk-container-id-1 div.sk-toggleable__content pre {margin: 0.2em;color: black;border-radius: 0.25em;background-color: #f0f8ff;}#sk-container-id-1 input.sk-toggleable__control:checked~div.sk-toggleable__content {max-height: 200px;max-width: 100%;overflow: auto;}#sk-container-id-1 input.sk-toggleable__control:checked~label.sk-toggleable__label-arrow:before {content: \"▾\";}#sk-container-id-1 div.sk-estimator input.sk-toggleable__control:checked~label.sk-toggleable__label {background-color: #d4ebff;}#sk-container-id-1 div.sk-label input.sk-toggleable__control:checked~label.sk-toggleable__label {background-color: #d4ebff;}#sk-container-id-1 input.sk-hidden--visually {border: 0;clip: rect(1px 1px 1px 1px);clip: rect(1px, 1px, 1px, 1px);height: 1px;margin: -1px;overflow: hidden;padding: 0;position: absolute;width: 1px;}#sk-container-id-1 div.sk-estimator {font-family: monospace;background-color: #f0f8ff;border: 1px dotted black;border-radius: 0.25em;box-sizing: border-box;margin-bottom: 0.5em;}#sk-container-id-1 div.sk-estimator:hover {background-color: #d4ebff;}#sk-container-id-1 div.sk-parallel-item::after {content: \"\";width: 100%;border-bottom: 1px solid gray;flex-grow: 1;}#sk-container-id-1 div.sk-label:hover label.sk-toggleable__label {background-color: #d4ebff;}#sk-container-id-1 div.sk-serial::before {content: \"\";position: absolute;border-left: 1px solid gray;box-sizing: border-box;top: 0;bottom: 0;left: 50%;z-index: 0;}#sk-container-id-1 div.sk-serial {display: flex;flex-direction: column;align-items: center;background-color: white;padding-right: 0.2em;padding-left: 0.2em;position: relative;}#sk-container-id-1 div.sk-item {position: relative;z-index: 1;}#sk-container-id-1 div.sk-parallel {display: flex;align-items: stretch;justify-content: center;background-color: white;position: relative;}#sk-container-id-1 div.sk-item::before, #sk-container-id-1 div.sk-parallel-item::before {content: \"\";position: absolute;border-left: 1px solid gray;box-sizing: border-box;top: 0;bottom: 0;left: 50%;z-index: -1;}#sk-container-id-1 div.sk-parallel-item {display: flex;flex-direction: column;z-index: 1;position: relative;background-color: white;}#sk-container-id-1 div.sk-parallel-item:first-child::after {align-self: flex-end;width: 50%;}#sk-container-id-1 div.sk-parallel-item:last-child::after {align-self: flex-start;width: 50%;}#sk-container-id-1 div.sk-parallel-item:only-child::after {width: 0;}#sk-container-id-1 div.sk-dashed-wrapped {border: 1px dashed gray;margin: 0 0.4em 0.5em 0.4em;box-sizing: border-box;padding-bottom: 0.4em;background-color: white;}#sk-container-id-1 div.sk-label label {font-family: monospace;font-weight: bold;display: inline-block;line-height: 1.2em;}#sk-container-id-1 div.sk-label-container {text-align: center;}#sk-container-id-1 div.sk-container {/* jupyter's `normalize.less` sets `[hidden] { display: none; }` but bootstrap.min.css set `[hidden] { display: none !important; }` so we also need the `!important` here to be able to override the default hidden behavior on the sphinx rendered scikit-learn.org. See: https://github.com/scikit-learn/scikit-learn/issues/21755 */display: inline-block !important;position: relative;}#sk-container-id-1 div.sk-text-repr-fallback {display: none;}</style><div id=\"sk-container-id-1\" class=\"sk-top-container\"><div class=\"sk-text-repr-fallback\"><pre>DecisionTreeClassifier()</pre><b>In a Jupyter environment, please rerun this cell to show the HTML representation or trust the notebook. <br />On GitHub, the HTML representation is unable to render, please try loading this page with nbviewer.org.</b></div><div class=\"sk-container\" hidden><div class=\"sk-item\"><div class=\"sk-estimator sk-toggleable\"><input class=\"sk-toggleable__control sk-hidden--visually\" id=\"sk-estimator-id-1\" type=\"checkbox\" checked><label for=\"sk-estimator-id-1\" class=\"sk-toggleable__label sk-toggleable__label-arrow\">DecisionTreeClassifier</label><div class=\"sk-toggleable__content\"><pre>DecisionTreeClassifier()</pre></div></div></div></div></div>"
     },
     "execution_count": 29,
     "metadata": {},
     "output_type": "execute_result"
    }
   ],
   "source": [
    "dt.fit(X_train, y_train)\n"
   ],
   "metadata": {
    "collapsed": false
   }
  },
  {
   "cell_type": "code",
   "execution_count": 57,
   "outputs": [],
   "source": [
    "with open('../models/decision_tree.sav', \"wb\") as f:\n",
    "    pickle.dump(dt, f)"
   ],
   "metadata": {
    "collapsed": false
   }
  },
  {
   "cell_type": "code",
   "execution_count": 24,
   "outputs": [],
   "source": [
    "with open('../models/decision_tree.sav', \"rb\") as f:\n",
    "    dt = pickle.load(f)"
   ],
   "metadata": {
    "collapsed": false
   }
  },
  {
   "cell_type": "code",
   "execution_count": 25,
   "outputs": [
    {
     "data": {
      "text/plain": "0.002154862807068003"
     },
     "execution_count": 25,
     "metadata": {},
     "output_type": "execute_result"
    }
   ],
   "source": [
    "dt.score(X_test, y_test) - y_test.mean()"
   ],
   "metadata": {
    "collapsed": false
   }
  },
  {
   "cell_type": "markdown",
   "source": [
    "# Random Forest"
   ],
   "metadata": {
    "collapsed": false
   }
  },
  {
   "cell_type": "code",
   "execution_count": 31,
   "outputs": [],
   "source": [
    "rf = GridSearchCV(RandomForestClassifier(), param_grid={\n",
    "    \"n_estimators\": [50, 100],\n",
    "    \"max_depth\": [1, 2, 3, 4],\n",
    "    \"criterion\": [\"entropy\"],\n",
    "    \"min_samples_split\": [10],\n",
    "    \"n_jobs\": [-1]\n",
    "}, cv=5, verbose=2, n_jobs=-1)\n"
   ],
   "metadata": {
    "collapsed": false
   }
  },
  {
   "cell_type": "code",
   "execution_count": 32,
   "outputs": [
    {
     "name": "stdout",
     "output_type": "stream",
     "text": [
      "Fitting 5 folds for each of 8 candidates, totalling 40 fits\n"
     ]
    },
    {
     "data": {
      "text/plain": "GridSearchCV(cv=5, estimator=RandomForestClassifier(), n_jobs=-1,\n             param_grid={'criterion': ['entropy'], 'max_depth': [1, 2, 3, 4],\n                         'min_samples_split': [10], 'n_estimators': [50, 100],\n                         'n_jobs': [-1]},\n             verbose=2)",
      "text/html": "<style>#sk-container-id-2 {color: black;background-color: white;}#sk-container-id-2 pre{padding: 0;}#sk-container-id-2 div.sk-toggleable {background-color: white;}#sk-container-id-2 label.sk-toggleable__label {cursor: pointer;display: block;width: 100%;margin-bottom: 0;padding: 0.3em;box-sizing: border-box;text-align: center;}#sk-container-id-2 label.sk-toggleable__label-arrow:before {content: \"▸\";float: left;margin-right: 0.25em;color: #696969;}#sk-container-id-2 label.sk-toggleable__label-arrow:hover:before {color: black;}#sk-container-id-2 div.sk-estimator:hover label.sk-toggleable__label-arrow:before {color: black;}#sk-container-id-2 div.sk-toggleable__content {max-height: 0;max-width: 0;overflow: hidden;text-align: left;background-color: #f0f8ff;}#sk-container-id-2 div.sk-toggleable__content pre {margin: 0.2em;color: black;border-radius: 0.25em;background-color: #f0f8ff;}#sk-container-id-2 input.sk-toggleable__control:checked~div.sk-toggleable__content {max-height: 200px;max-width: 100%;overflow: auto;}#sk-container-id-2 input.sk-toggleable__control:checked~label.sk-toggleable__label-arrow:before {content: \"▾\";}#sk-container-id-2 div.sk-estimator input.sk-toggleable__control:checked~label.sk-toggleable__label {background-color: #d4ebff;}#sk-container-id-2 div.sk-label input.sk-toggleable__control:checked~label.sk-toggleable__label {background-color: #d4ebff;}#sk-container-id-2 input.sk-hidden--visually {border: 0;clip: rect(1px 1px 1px 1px);clip: rect(1px, 1px, 1px, 1px);height: 1px;margin: -1px;overflow: hidden;padding: 0;position: absolute;width: 1px;}#sk-container-id-2 div.sk-estimator {font-family: monospace;background-color: #f0f8ff;border: 1px dotted black;border-radius: 0.25em;box-sizing: border-box;margin-bottom: 0.5em;}#sk-container-id-2 div.sk-estimator:hover {background-color: #d4ebff;}#sk-container-id-2 div.sk-parallel-item::after {content: \"\";width: 100%;border-bottom: 1px solid gray;flex-grow: 1;}#sk-container-id-2 div.sk-label:hover label.sk-toggleable__label {background-color: #d4ebff;}#sk-container-id-2 div.sk-serial::before {content: \"\";position: absolute;border-left: 1px solid gray;box-sizing: border-box;top: 0;bottom: 0;left: 50%;z-index: 0;}#sk-container-id-2 div.sk-serial {display: flex;flex-direction: column;align-items: center;background-color: white;padding-right: 0.2em;padding-left: 0.2em;position: relative;}#sk-container-id-2 div.sk-item {position: relative;z-index: 1;}#sk-container-id-2 div.sk-parallel {display: flex;align-items: stretch;justify-content: center;background-color: white;position: relative;}#sk-container-id-2 div.sk-item::before, #sk-container-id-2 div.sk-parallel-item::before {content: \"\";position: absolute;border-left: 1px solid gray;box-sizing: border-box;top: 0;bottom: 0;left: 50%;z-index: -1;}#sk-container-id-2 div.sk-parallel-item {display: flex;flex-direction: column;z-index: 1;position: relative;background-color: white;}#sk-container-id-2 div.sk-parallel-item:first-child::after {align-self: flex-end;width: 50%;}#sk-container-id-2 div.sk-parallel-item:last-child::after {align-self: flex-start;width: 50%;}#sk-container-id-2 div.sk-parallel-item:only-child::after {width: 0;}#sk-container-id-2 div.sk-dashed-wrapped {border: 1px dashed gray;margin: 0 0.4em 0.5em 0.4em;box-sizing: border-box;padding-bottom: 0.4em;background-color: white;}#sk-container-id-2 div.sk-label label {font-family: monospace;font-weight: bold;display: inline-block;line-height: 1.2em;}#sk-container-id-2 div.sk-label-container {text-align: center;}#sk-container-id-2 div.sk-container {/* jupyter's `normalize.less` sets `[hidden] { display: none; }` but bootstrap.min.css set `[hidden] { display: none !important; }` so we also need the `!important` here to be able to override the default hidden behavior on the sphinx rendered scikit-learn.org. See: https://github.com/scikit-learn/scikit-learn/issues/21755 */display: inline-block !important;position: relative;}#sk-container-id-2 div.sk-text-repr-fallback {display: none;}</style><div id=\"sk-container-id-2\" class=\"sk-top-container\"><div class=\"sk-text-repr-fallback\"><pre>GridSearchCV(cv=5, estimator=RandomForestClassifier(), n_jobs=-1,\n             param_grid={&#x27;criterion&#x27;: [&#x27;entropy&#x27;], &#x27;max_depth&#x27;: [1, 2, 3, 4],\n                         &#x27;min_samples_split&#x27;: [10], &#x27;n_estimators&#x27;: [50, 100],\n                         &#x27;n_jobs&#x27;: [-1]},\n             verbose=2)</pre><b>In a Jupyter environment, please rerun this cell to show the HTML representation or trust the notebook. <br />On GitHub, the HTML representation is unable to render, please try loading this page with nbviewer.org.</b></div><div class=\"sk-container\" hidden><div class=\"sk-item sk-dashed-wrapped\"><div class=\"sk-label-container\"><div class=\"sk-label sk-toggleable\"><input class=\"sk-toggleable__control sk-hidden--visually\" id=\"sk-estimator-id-2\" type=\"checkbox\" ><label for=\"sk-estimator-id-2\" class=\"sk-toggleable__label sk-toggleable__label-arrow\">GridSearchCV</label><div class=\"sk-toggleable__content\"><pre>GridSearchCV(cv=5, estimator=RandomForestClassifier(), n_jobs=-1,\n             param_grid={&#x27;criterion&#x27;: [&#x27;entropy&#x27;], &#x27;max_depth&#x27;: [1, 2, 3, 4],\n                         &#x27;min_samples_split&#x27;: [10], &#x27;n_estimators&#x27;: [50, 100],\n                         &#x27;n_jobs&#x27;: [-1]},\n             verbose=2)</pre></div></div></div><div class=\"sk-parallel\"><div class=\"sk-parallel-item\"><div class=\"sk-item\"><div class=\"sk-label-container\"><div class=\"sk-label sk-toggleable\"><input class=\"sk-toggleable__control sk-hidden--visually\" id=\"sk-estimator-id-3\" type=\"checkbox\" ><label for=\"sk-estimator-id-3\" class=\"sk-toggleable__label sk-toggleable__label-arrow\">estimator: RandomForestClassifier</label><div class=\"sk-toggleable__content\"><pre>RandomForestClassifier()</pre></div></div></div><div class=\"sk-serial\"><div class=\"sk-item\"><div class=\"sk-estimator sk-toggleable\"><input class=\"sk-toggleable__control sk-hidden--visually\" id=\"sk-estimator-id-4\" type=\"checkbox\" ><label for=\"sk-estimator-id-4\" class=\"sk-toggleable__label sk-toggleable__label-arrow\">RandomForestClassifier</label><div class=\"sk-toggleable__content\"><pre>RandomForestClassifier()</pre></div></div></div></div></div></div></div></div></div></div>"
     },
     "execution_count": 32,
     "metadata": {},
     "output_type": "execute_result"
    }
   ],
   "source": [
    "rf.fit(X_train, y_train)\n"
   ],
   "metadata": {
    "collapsed": false
   }
  },
  {
   "cell_type": "code",
   "execution_count": 61,
   "outputs": [],
   "source": [
    "with open('../models/random_forest.sav', \"wb\") as f:\n",
    "    pickle.dump(rf, f)"
   ],
   "metadata": {
    "collapsed": false
   }
  },
  {
   "cell_type": "code",
   "execution_count": 26,
   "outputs": [],
   "source": [
    "with open('../models/random_forest.sav', \"rb\") as f:\n",
    "    rf = pickle.load(f)"
   ],
   "metadata": {
    "collapsed": false
   }
  },
  {
   "cell_type": "code",
   "execution_count": 27,
   "outputs": [
    {
     "data": {
      "text/plain": "0.012534514761146975"
     },
     "execution_count": 27,
     "metadata": {},
     "output_type": "execute_result"
    }
   ],
   "source": [
    "rf.best_score_ - (1 - y_train.mean())"
   ],
   "metadata": {
    "collapsed": false
   }
  },
  {
   "cell_type": "code",
   "execution_count": 28,
   "outputs": [
    {
     "data": {
      "text/plain": "{'criterion': 'entropy',\n 'max_depth': 4,\n 'min_samples_split': 10,\n 'n_estimators': 100,\n 'n_jobs': -1}"
     },
     "execution_count": 28,
     "metadata": {},
     "output_type": "execute_result"
    }
   ],
   "source": [
    "rf.best_params_"
   ],
   "metadata": {
    "collapsed": false
   }
  },
  {
   "cell_type": "code",
   "execution_count": 29,
   "outputs": [
    {
     "data": {
      "text/plain": "0.5175980462577215"
     },
     "execution_count": 29,
     "metadata": {},
     "output_type": "execute_result"
    }
   ],
   "source": [
    "rf.score(X_test, y_test)"
   ],
   "metadata": {
    "collapsed": false
   }
  },
  {
   "cell_type": "code",
   "execution_count": 30,
   "outputs": [
    {
     "data": {
      "text/plain": "0.014222094526648466"
     },
     "execution_count": 30,
     "metadata": {},
     "output_type": "execute_result"
    }
   ],
   "source": [
    "rf.score(X_test, y_test) - y_test.mean()"
   ],
   "metadata": {
    "collapsed": false
   }
  },
  {
   "cell_type": "code",
   "execution_count": 31,
   "outputs": [
    {
     "data": {
      "text/plain": "                                     0\npatch                         0.019914\nselection_1_base_attack_max   0.010828\nselection_14_agi_gain         0.008251\nselection_0_overall_win_rate  0.008146\nselection_1_attack_range      0.007891",
      "text/html": "<div>\n<style scoped>\n    .dataframe tbody tr th:only-of-type {\n        vertical-align: middle;\n    }\n\n    .dataframe tbody tr th {\n        vertical-align: top;\n    }\n\n    .dataframe thead th {\n        text-align: right;\n    }\n</style>\n<table border=\"1\" class=\"dataframe\">\n  <thead>\n    <tr style=\"text-align: right;\">\n      <th></th>\n      <th>0</th>\n    </tr>\n  </thead>\n  <tbody>\n    <tr>\n      <th>patch</th>\n      <td>0.019914</td>\n    </tr>\n    <tr>\n      <th>selection_1_base_attack_max</th>\n      <td>0.010828</td>\n    </tr>\n    <tr>\n      <th>selection_14_agi_gain</th>\n      <td>0.008251</td>\n    </tr>\n    <tr>\n      <th>selection_0_overall_win_rate</th>\n      <td>0.008146</td>\n    </tr>\n    <tr>\n      <th>selection_1_attack_range</th>\n      <td>0.007891</td>\n    </tr>\n  </tbody>\n</table>\n</div>"
     },
     "execution_count": 31,
     "metadata": {},
     "output_type": "execute_result"
    }
   ],
   "source": [
    "pd.DataFrame(rf.best_estimator_.feature_importances_, index=X_train.columns).sort_values(by=0, ascending=False).head()\n"
   ],
   "metadata": {
    "collapsed": false
   }
  },
  {
   "cell_type": "markdown",
   "source": [
    "# XGBoost\n"
   ],
   "metadata": {
    "collapsed": false
   }
  },
  {
   "cell_type": "code",
   "execution_count": 40,
   "outputs": [],
   "source": [
    "xgb = GridSearchCV(XGBClassifier(), param_grid={\n",
    "    \"booster\": [\"gbtree\"],\n",
    "    \"objective\": [\"binary:logistic\"],\n",
    "    'max_depth': [1, 2, 3, 4],\n",
    "    'n_estimators': [100],\n",
    "    'learning_rate': [1]\n",
    "}, cv=5, verbose=2, n_jobs=-1)"
   ],
   "metadata": {
    "collapsed": false
   }
  },
  {
   "cell_type": "code",
   "execution_count": 41,
   "outputs": [
    {
     "name": "stdout",
     "output_type": "stream",
     "text": [
      "Fitting 5 folds for each of 4 candidates, totalling 20 fits\n"
     ]
    },
    {
     "data": {
      "text/plain": "GridSearchCV(cv=5,\n             estimator=XGBClassifier(base_score=None, booster=None,\n                                     callbacks=None, colsample_bylevel=None,\n                                     colsample_bynode=None,\n                                     colsample_bytree=None,\n                                     early_stopping_rounds=None,\n                                     enable_categorical=False, eval_metric=None,\n                                     feature_types=None, gamma=None,\n                                     gpu_id=None, grow_policy=None,\n                                     importance_type=None,\n                                     interaction_constraints=None,\n                                     learning_rate=None,...\n                                     max_delta_step=None, max_depth=None,\n                                     max_leaves=None, min_child_weight=None,\n                                     missing=nan, monotone_constraints=None,\n                                     n_estimators=100, n_jobs=None,\n                                     num_parallel_tree=None, predictor=None,\n                                     random_state=None, ...),\n             n_jobs=-1,\n             param_grid={'booster': ['gbtree'], 'learning_rate': [1],\n                         'max_depth': [1, 2, 3, 4], 'n_estimators': [100],\n                         'objective': ['binary:logistic']},\n             verbose=2)",
      "text/html": "<style>#sk-container-id-3 {color: black;background-color: white;}#sk-container-id-3 pre{padding: 0;}#sk-container-id-3 div.sk-toggleable {background-color: white;}#sk-container-id-3 label.sk-toggleable__label {cursor: pointer;display: block;width: 100%;margin-bottom: 0;padding: 0.3em;box-sizing: border-box;text-align: center;}#sk-container-id-3 label.sk-toggleable__label-arrow:before {content: \"▸\";float: left;margin-right: 0.25em;color: #696969;}#sk-container-id-3 label.sk-toggleable__label-arrow:hover:before {color: black;}#sk-container-id-3 div.sk-estimator:hover label.sk-toggleable__label-arrow:before {color: black;}#sk-container-id-3 div.sk-toggleable__content {max-height: 0;max-width: 0;overflow: hidden;text-align: left;background-color: #f0f8ff;}#sk-container-id-3 div.sk-toggleable__content pre {margin: 0.2em;color: black;border-radius: 0.25em;background-color: #f0f8ff;}#sk-container-id-3 input.sk-toggleable__control:checked~div.sk-toggleable__content {max-height: 200px;max-width: 100%;overflow: auto;}#sk-container-id-3 input.sk-toggleable__control:checked~label.sk-toggleable__label-arrow:before {content: \"▾\";}#sk-container-id-3 div.sk-estimator input.sk-toggleable__control:checked~label.sk-toggleable__label {background-color: #d4ebff;}#sk-container-id-3 div.sk-label input.sk-toggleable__control:checked~label.sk-toggleable__label {background-color: #d4ebff;}#sk-container-id-3 input.sk-hidden--visually {border: 0;clip: rect(1px 1px 1px 1px);clip: rect(1px, 1px, 1px, 1px);height: 1px;margin: -1px;overflow: hidden;padding: 0;position: absolute;width: 1px;}#sk-container-id-3 div.sk-estimator {font-family: monospace;background-color: #f0f8ff;border: 1px dotted black;border-radius: 0.25em;box-sizing: border-box;margin-bottom: 0.5em;}#sk-container-id-3 div.sk-estimator:hover {background-color: #d4ebff;}#sk-container-id-3 div.sk-parallel-item::after {content: \"\";width: 100%;border-bottom: 1px solid gray;flex-grow: 1;}#sk-container-id-3 div.sk-label:hover label.sk-toggleable__label {background-color: #d4ebff;}#sk-container-id-3 div.sk-serial::before {content: \"\";position: absolute;border-left: 1px solid gray;box-sizing: border-box;top: 0;bottom: 0;left: 50%;z-index: 0;}#sk-container-id-3 div.sk-serial {display: flex;flex-direction: column;align-items: center;background-color: white;padding-right: 0.2em;padding-left: 0.2em;position: relative;}#sk-container-id-3 div.sk-item {position: relative;z-index: 1;}#sk-container-id-3 div.sk-parallel {display: flex;align-items: stretch;justify-content: center;background-color: white;position: relative;}#sk-container-id-3 div.sk-item::before, #sk-container-id-3 div.sk-parallel-item::before {content: \"\";position: absolute;border-left: 1px solid gray;box-sizing: border-box;top: 0;bottom: 0;left: 50%;z-index: -1;}#sk-container-id-3 div.sk-parallel-item {display: flex;flex-direction: column;z-index: 1;position: relative;background-color: white;}#sk-container-id-3 div.sk-parallel-item:first-child::after {align-self: flex-end;width: 50%;}#sk-container-id-3 div.sk-parallel-item:last-child::after {align-self: flex-start;width: 50%;}#sk-container-id-3 div.sk-parallel-item:only-child::after {width: 0;}#sk-container-id-3 div.sk-dashed-wrapped {border: 1px dashed gray;margin: 0 0.4em 0.5em 0.4em;box-sizing: border-box;padding-bottom: 0.4em;background-color: white;}#sk-container-id-3 div.sk-label label {font-family: monospace;font-weight: bold;display: inline-block;line-height: 1.2em;}#sk-container-id-3 div.sk-label-container {text-align: center;}#sk-container-id-3 div.sk-container {/* jupyter's `normalize.less` sets `[hidden] { display: none; }` but bootstrap.min.css set `[hidden] { display: none !important; }` so we also need the `!important` here to be able to override the default hidden behavior on the sphinx rendered scikit-learn.org. See: https://github.com/scikit-learn/scikit-learn/issues/21755 */display: inline-block !important;position: relative;}#sk-container-id-3 div.sk-text-repr-fallback {display: none;}</style><div id=\"sk-container-id-3\" class=\"sk-top-container\"><div class=\"sk-text-repr-fallback\"><pre>GridSearchCV(cv=5,\n             estimator=XGBClassifier(base_score=None, booster=None,\n                                     callbacks=None, colsample_bylevel=None,\n                                     colsample_bynode=None,\n                                     colsample_bytree=None,\n                                     early_stopping_rounds=None,\n                                     enable_categorical=False, eval_metric=None,\n                                     feature_types=None, gamma=None,\n                                     gpu_id=None, grow_policy=None,\n                                     importance_type=None,\n                                     interaction_constraints=None,\n                                     learning_rate=None,...\n                                     max_delta_step=None, max_depth=None,\n                                     max_leaves=None, min_child_weight=None,\n                                     missing=nan, monotone_constraints=None,\n                                     n_estimators=100, n_jobs=None,\n                                     num_parallel_tree=None, predictor=None,\n                                     random_state=None, ...),\n             n_jobs=-1,\n             param_grid={&#x27;booster&#x27;: [&#x27;gbtree&#x27;], &#x27;learning_rate&#x27;: [1],\n                         &#x27;max_depth&#x27;: [1, 2, 3, 4], &#x27;n_estimators&#x27;: [100],\n                         &#x27;objective&#x27;: [&#x27;binary:logistic&#x27;]},\n             verbose=2)</pre><b>In a Jupyter environment, please rerun this cell to show the HTML representation or trust the notebook. <br />On GitHub, the HTML representation is unable to render, please try loading this page with nbviewer.org.</b></div><div class=\"sk-container\" hidden><div class=\"sk-item sk-dashed-wrapped\"><div class=\"sk-label-container\"><div class=\"sk-label sk-toggleable\"><input class=\"sk-toggleable__control sk-hidden--visually\" id=\"sk-estimator-id-5\" type=\"checkbox\" ><label for=\"sk-estimator-id-5\" class=\"sk-toggleable__label sk-toggleable__label-arrow\">GridSearchCV</label><div class=\"sk-toggleable__content\"><pre>GridSearchCV(cv=5,\n             estimator=XGBClassifier(base_score=None, booster=None,\n                                     callbacks=None, colsample_bylevel=None,\n                                     colsample_bynode=None,\n                                     colsample_bytree=None,\n                                     early_stopping_rounds=None,\n                                     enable_categorical=False, eval_metric=None,\n                                     feature_types=None, gamma=None,\n                                     gpu_id=None, grow_policy=None,\n                                     importance_type=None,\n                                     interaction_constraints=None,\n                                     learning_rate=None,...\n                                     max_delta_step=None, max_depth=None,\n                                     max_leaves=None, min_child_weight=None,\n                                     missing=nan, monotone_constraints=None,\n                                     n_estimators=100, n_jobs=None,\n                                     num_parallel_tree=None, predictor=None,\n                                     random_state=None, ...),\n             n_jobs=-1,\n             param_grid={&#x27;booster&#x27;: [&#x27;gbtree&#x27;], &#x27;learning_rate&#x27;: [1],\n                         &#x27;max_depth&#x27;: [1, 2, 3, 4], &#x27;n_estimators&#x27;: [100],\n                         &#x27;objective&#x27;: [&#x27;binary:logistic&#x27;]},\n             verbose=2)</pre></div></div></div><div class=\"sk-parallel\"><div class=\"sk-parallel-item\"><div class=\"sk-item\"><div class=\"sk-label-container\"><div class=\"sk-label sk-toggleable\"><input class=\"sk-toggleable__control sk-hidden--visually\" id=\"sk-estimator-id-6\" type=\"checkbox\" ><label for=\"sk-estimator-id-6\" class=\"sk-toggleable__label sk-toggleable__label-arrow\">estimator: XGBClassifier</label><div class=\"sk-toggleable__content\"><pre>XGBClassifier(base_score=None, booster=None, callbacks=None,\n              colsample_bylevel=None, colsample_bynode=None,\n              colsample_bytree=None, early_stopping_rounds=None,\n              enable_categorical=False, eval_metric=None, feature_types=None,\n              gamma=None, gpu_id=None, grow_policy=None, importance_type=None,\n              interaction_constraints=None, learning_rate=None, max_bin=None,\n              max_cat_threshold=None, max_cat_to_onehot=None,\n              max_delta_step=None, max_depth=None, max_leaves=None,\n              min_child_weight=None, missing=nan, monotone_constraints=None,\n              n_estimators=100, n_jobs=None, num_parallel_tree=None,\n              predictor=None, random_state=None, ...)</pre></div></div></div><div class=\"sk-serial\"><div class=\"sk-item\"><div class=\"sk-estimator sk-toggleable\"><input class=\"sk-toggleable__control sk-hidden--visually\" id=\"sk-estimator-id-7\" type=\"checkbox\" ><label for=\"sk-estimator-id-7\" class=\"sk-toggleable__label sk-toggleable__label-arrow\">XGBClassifier</label><div class=\"sk-toggleable__content\"><pre>XGBClassifier(base_score=None, booster=None, callbacks=None,\n              colsample_bylevel=None, colsample_bynode=None,\n              colsample_bytree=None, early_stopping_rounds=None,\n              enable_categorical=False, eval_metric=None, feature_types=None,\n              gamma=None, gpu_id=None, grow_policy=None, importance_type=None,\n              interaction_constraints=None, learning_rate=None, max_bin=None,\n              max_cat_threshold=None, max_cat_to_onehot=None,\n              max_delta_step=None, max_depth=None, max_leaves=None,\n              min_child_weight=None, missing=nan, monotone_constraints=None,\n              n_estimators=100, n_jobs=None, num_parallel_tree=None,\n              predictor=None, random_state=None, ...)</pre></div></div></div></div></div></div></div></div></div></div>"
     },
     "execution_count": 41,
     "metadata": {},
     "output_type": "execute_result"
    }
   ],
   "source": [
    "xgb.fit(X_train, y_train)"
   ],
   "metadata": {
    "collapsed": false
   }
  },
  {
   "cell_type": "code",
   "execution_count": 67,
   "outputs": [],
   "source": [
    "with open('../models/xgboost.sav', \"wb\") as f:\n",
    "    pickle.dump(xgb, f)"
   ],
   "metadata": {
    "collapsed": false
   }
  },
  {
   "cell_type": "code",
   "execution_count": 32,
   "outputs": [],
   "source": [
    "with open('../models/xgboost.sav', \"rb\") as f:\n",
    "    xgb = pickle.load(f)"
   ],
   "metadata": {
    "collapsed": false
   }
  },
  {
   "cell_type": "code",
   "execution_count": 33,
   "outputs": [
    {
     "data": {
      "text/plain": "{'booster': 'gbtree',\n 'learning_rate': 1,\n 'max_depth': 1,\n 'n_estimators': 100,\n 'objective': 'binary:logistic'}"
     },
     "execution_count": 33,
     "metadata": {},
     "output_type": "execute_result"
    }
   ],
   "source": [
    "xgb.best_params_"
   ],
   "metadata": {
    "collapsed": false
   }
  },
  {
   "cell_type": "code",
   "execution_count": 34,
   "outputs": [
    {
     "data": {
      "text/plain": "0.004884355696020748"
     },
     "execution_count": 34,
     "metadata": {},
     "output_type": "execute_result"
    }
   ],
   "source": [
    "xgb.score(X_test, y_test) - y_test.mean()"
   ],
   "metadata": {
    "collapsed": false
   }
  },
  {
   "cell_type": "markdown",
   "source": [
    "# Data Analysis\n"
   ],
   "metadata": {
    "collapsed": false
   }
  },
  {
   "cell_type": "code",
   "execution_count": 35,
   "outputs": [
    {
     "data": {
      "text/plain": "   radiant_win  first_pick_team  selection_4  selection_5  selection_6  \\\n0        False                0          103           64          112   \n1        False                0           85          129          101   \n2        False                1          103          114           87   \n3         True                0            3          129           25   \n4         True                1           63           87           38   \n\n   selection_7  selection_14  selection_15  selection_16  selection_17  \\\n0          105            69            71           114            89   \n1           12            13           107           121            72   \n2          110            75            47           106            54   \n3           98            68            86            94             1   \n4           60           114            64            39           106   \n\n   selection_22  selection_23  \n0           129            39  \n1            15            61  \n2            95            98  \n3           114           100  \n4            25             9  ",
      "text/html": "<div>\n<style scoped>\n    .dataframe tbody tr th:only-of-type {\n        vertical-align: middle;\n    }\n\n    .dataframe tbody tr th {\n        vertical-align: top;\n    }\n\n    .dataframe thead th {\n        text-align: right;\n    }\n</style>\n<table border=\"1\" class=\"dataframe\">\n  <thead>\n    <tr style=\"text-align: right;\">\n      <th></th>\n      <th>radiant_win</th>\n      <th>first_pick_team</th>\n      <th>selection_4</th>\n      <th>selection_5</th>\n      <th>selection_6</th>\n      <th>selection_7</th>\n      <th>selection_14</th>\n      <th>selection_15</th>\n      <th>selection_16</th>\n      <th>selection_17</th>\n      <th>selection_22</th>\n      <th>selection_23</th>\n    </tr>\n  </thead>\n  <tbody>\n    <tr>\n      <th>0</th>\n      <td>False</td>\n      <td>0</td>\n      <td>103</td>\n      <td>64</td>\n      <td>112</td>\n      <td>105</td>\n      <td>69</td>\n      <td>71</td>\n      <td>114</td>\n      <td>89</td>\n      <td>129</td>\n      <td>39</td>\n    </tr>\n    <tr>\n      <th>1</th>\n      <td>False</td>\n      <td>0</td>\n      <td>85</td>\n      <td>129</td>\n      <td>101</td>\n      <td>12</td>\n      <td>13</td>\n      <td>107</td>\n      <td>121</td>\n      <td>72</td>\n      <td>15</td>\n      <td>61</td>\n    </tr>\n    <tr>\n      <th>2</th>\n      <td>False</td>\n      <td>1</td>\n      <td>103</td>\n      <td>114</td>\n      <td>87</td>\n      <td>110</td>\n      <td>75</td>\n      <td>47</td>\n      <td>106</td>\n      <td>54</td>\n      <td>95</td>\n      <td>98</td>\n    </tr>\n    <tr>\n      <th>3</th>\n      <td>True</td>\n      <td>0</td>\n      <td>3</td>\n      <td>129</td>\n      <td>25</td>\n      <td>98</td>\n      <td>68</td>\n      <td>86</td>\n      <td>94</td>\n      <td>1</td>\n      <td>114</td>\n      <td>100</td>\n    </tr>\n    <tr>\n      <th>4</th>\n      <td>True</td>\n      <td>1</td>\n      <td>63</td>\n      <td>87</td>\n      <td>38</td>\n      <td>60</td>\n      <td>114</td>\n      <td>64</td>\n      <td>39</td>\n      <td>106</td>\n      <td>25</td>\n      <td>9</td>\n    </tr>\n  </tbody>\n</table>\n</div>"
     },
     "execution_count": 35,
     "metadata": {},
     "output_type": "execute_result"
    }
   ],
   "source": [
    "picked_heroes = data.drop(\n",
    "    [\"match_id\", \"region\", \"patch\"]\n",
    "    + [\"selection_{}\".format(i) for i in [0, 1, 2, 3, 8, 9, 10, 11, 12, 13, 18, 19, 20, 21]],\n",
    "    axis=1\n",
    ")\n",
    "picked_heroes.head()"
   ],
   "metadata": {
    "collapsed": false
   }
  },
  {
   "cell_type": "code",
   "execution_count": 36,
   "outputs": [
    {
     "data": {
      "text/plain": "   radiant_win  first_pick_team  selection_4  selection_5  selection_6  \\\n0        False                0          103           64          112   \n1        False                0           85          129          101   \n3         True                0            3          129           25   \n5        False                0           91          100           25   \n6        False                0           22           19          126   \n\n   selection_7  selection_14  selection_15  selection_16  selection_17  \\\n0          105            69            71           114            89   \n1           12            13           107           121            72   \n3           98            68            86            94             1   \n5           99           129            29            26            70   \n6           38            99             8             5            37   \n\n   selection_22  selection_23  \n0           129            39  \n1            15            61  \n3           114           100  \n5            46           123  \n6            33           104  ",
      "text/html": "<div>\n<style scoped>\n    .dataframe tbody tr th:only-of-type {\n        vertical-align: middle;\n    }\n\n    .dataframe tbody tr th {\n        vertical-align: top;\n    }\n\n    .dataframe thead th {\n        text-align: right;\n    }\n</style>\n<table border=\"1\" class=\"dataframe\">\n  <thead>\n    <tr style=\"text-align: right;\">\n      <th></th>\n      <th>radiant_win</th>\n      <th>first_pick_team</th>\n      <th>selection_4</th>\n      <th>selection_5</th>\n      <th>selection_6</th>\n      <th>selection_7</th>\n      <th>selection_14</th>\n      <th>selection_15</th>\n      <th>selection_16</th>\n      <th>selection_17</th>\n      <th>selection_22</th>\n      <th>selection_23</th>\n    </tr>\n  </thead>\n  <tbody>\n    <tr>\n      <th>0</th>\n      <td>False</td>\n      <td>0</td>\n      <td>103</td>\n      <td>64</td>\n      <td>112</td>\n      <td>105</td>\n      <td>69</td>\n      <td>71</td>\n      <td>114</td>\n      <td>89</td>\n      <td>129</td>\n      <td>39</td>\n    </tr>\n    <tr>\n      <th>1</th>\n      <td>False</td>\n      <td>0</td>\n      <td>85</td>\n      <td>129</td>\n      <td>101</td>\n      <td>12</td>\n      <td>13</td>\n      <td>107</td>\n      <td>121</td>\n      <td>72</td>\n      <td>15</td>\n      <td>61</td>\n    </tr>\n    <tr>\n      <th>3</th>\n      <td>True</td>\n      <td>0</td>\n      <td>3</td>\n      <td>129</td>\n      <td>25</td>\n      <td>98</td>\n      <td>68</td>\n      <td>86</td>\n      <td>94</td>\n      <td>1</td>\n      <td>114</td>\n      <td>100</td>\n    </tr>\n    <tr>\n      <th>5</th>\n      <td>False</td>\n      <td>0</td>\n      <td>91</td>\n      <td>100</td>\n      <td>25</td>\n      <td>99</td>\n      <td>129</td>\n      <td>29</td>\n      <td>26</td>\n      <td>70</td>\n      <td>46</td>\n      <td>123</td>\n    </tr>\n    <tr>\n      <th>6</th>\n      <td>False</td>\n      <td>0</td>\n      <td>22</td>\n      <td>19</td>\n      <td>126</td>\n      <td>38</td>\n      <td>99</td>\n      <td>8</td>\n      <td>5</td>\n      <td>37</td>\n      <td>33</td>\n      <td>104</td>\n    </tr>\n  </tbody>\n</table>\n</div>"
     },
     "execution_count": 36,
     "metadata": {},
     "output_type": "execute_result"
    }
   ],
   "source": [
    "team_0_pick_first = picked_heroes.query(\"first_pick_team == 0\")\n",
    "team_0_pick_first.head()"
   ],
   "metadata": {
    "collapsed": false
   }
  },
  {
   "cell_type": "code",
   "execution_count": 37,
   "outputs": [
    {
     "data": {
      "text/plain": "    radiant_win  first_pick_team  selection_4  selection_5  selection_6  \\\n2         False                1          103          114           87   \n4          True                1           63           87           38   \n9          True                1            3          102           76   \n13        False                1           92           23            9   \n14         True                1           20          121           25   \n\n    selection_7  selection_14  selection_15  selection_16  selection_17  \\\n2           110            75            47           106            54   \n4            60           114            64            39           106   \n9            30           119             2            46            15   \n13           14           128           102             8            53   \n14           19           120             4           112           107   \n\n    selection_22  selection_23  \n2             95            98  \n4             25             9  \n9             11           106  \n13            13            61  \n14            74           113  ",
      "text/html": "<div>\n<style scoped>\n    .dataframe tbody tr th:only-of-type {\n        vertical-align: middle;\n    }\n\n    .dataframe tbody tr th {\n        vertical-align: top;\n    }\n\n    .dataframe thead th {\n        text-align: right;\n    }\n</style>\n<table border=\"1\" class=\"dataframe\">\n  <thead>\n    <tr style=\"text-align: right;\">\n      <th></th>\n      <th>radiant_win</th>\n      <th>first_pick_team</th>\n      <th>selection_4</th>\n      <th>selection_5</th>\n      <th>selection_6</th>\n      <th>selection_7</th>\n      <th>selection_14</th>\n      <th>selection_15</th>\n      <th>selection_16</th>\n      <th>selection_17</th>\n      <th>selection_22</th>\n      <th>selection_23</th>\n    </tr>\n  </thead>\n  <tbody>\n    <tr>\n      <th>2</th>\n      <td>False</td>\n      <td>1</td>\n      <td>103</td>\n      <td>114</td>\n      <td>87</td>\n      <td>110</td>\n      <td>75</td>\n      <td>47</td>\n      <td>106</td>\n      <td>54</td>\n      <td>95</td>\n      <td>98</td>\n    </tr>\n    <tr>\n      <th>4</th>\n      <td>True</td>\n      <td>1</td>\n      <td>63</td>\n      <td>87</td>\n      <td>38</td>\n      <td>60</td>\n      <td>114</td>\n      <td>64</td>\n      <td>39</td>\n      <td>106</td>\n      <td>25</td>\n      <td>9</td>\n    </tr>\n    <tr>\n      <th>9</th>\n      <td>True</td>\n      <td>1</td>\n      <td>3</td>\n      <td>102</td>\n      <td>76</td>\n      <td>30</td>\n      <td>119</td>\n      <td>2</td>\n      <td>46</td>\n      <td>15</td>\n      <td>11</td>\n      <td>106</td>\n    </tr>\n    <tr>\n      <th>13</th>\n      <td>False</td>\n      <td>1</td>\n      <td>92</td>\n      <td>23</td>\n      <td>9</td>\n      <td>14</td>\n      <td>128</td>\n      <td>102</td>\n      <td>8</td>\n      <td>53</td>\n      <td>13</td>\n      <td>61</td>\n    </tr>\n    <tr>\n      <th>14</th>\n      <td>True</td>\n      <td>1</td>\n      <td>20</td>\n      <td>121</td>\n      <td>25</td>\n      <td>19</td>\n      <td>120</td>\n      <td>4</td>\n      <td>112</td>\n      <td>107</td>\n      <td>74</td>\n      <td>113</td>\n    </tr>\n  </tbody>\n</table>\n</div>"
     },
     "execution_count": 37,
     "metadata": {},
     "output_type": "execute_result"
    }
   ],
   "source": [
    "team_1_pick_first = picked_heroes.query(\"first_pick_team == 1\")\n",
    "team_1_pick_first.head()"
   ],
   "metadata": {
    "collapsed": false
   }
  },
  {
   "cell_type": "code",
   "execution_count": 38,
   "outputs": [],
   "source": [
    "team_drafts = []\n",
    "for index, row in team_0_pick_first.iterrows():\n",
    "    temp = dict()\n",
    "    temp[\"radiant_lineup\"] = [row[\"selection_{}\".format(i)] for i in [4, 7, 15, 16, 22]]\n",
    "    temp[\"dire_lineup\"] = [row[\"selection_{}\".format(i)] for i in [5, 6, 14, 17, 23]]\n",
    "    temp[\"radiant_win\"] = row[\"radiant_win\"]\n",
    "    team_drafts.append(temp)\n",
    "for index, row in team_1_pick_first.iterrows():\n",
    "    temp = dict()\n",
    "    temp[\"dire_lineup\"] = [row[\"selection_{}\".format(i)] for i in [4, 7, 15, 16, 22]]\n",
    "    temp[\"radiant_lineup\"] = [row[\"selection_{}\".format(i)] for i in [5, 6, 14, 17, 23]]\n",
    "    temp[\"radiant_win\"] = row[\"radiant_win\"]\n",
    "    team_drafts.append(temp)"
   ],
   "metadata": {
    "collapsed": false
   }
  },
  {
   "cell_type": "code",
   "execution_count": 39,
   "outputs": [
    {
     "data": {
      "text/plain": "             radiant_lineup              dire_lineup  radiant_win\n0  [103, 105, 71, 114, 129]    [64, 112, 69, 89, 39]        False\n1    [85, 12, 107, 121, 15]   [129, 101, 13, 72, 61]        False\n2      [3, 98, 86, 94, 114]    [129, 25, 68, 1, 100]         True\n3      [91, 99, 29, 26, 46]  [100, 25, 129, 70, 123]        False\n4        [22, 38, 8, 5, 33]   [19, 126, 99, 37, 104]        False",
      "text/html": "<div>\n<style scoped>\n    .dataframe tbody tr th:only-of-type {\n        vertical-align: middle;\n    }\n\n    .dataframe tbody tr th {\n        vertical-align: top;\n    }\n\n    .dataframe thead th {\n        text-align: right;\n    }\n</style>\n<table border=\"1\" class=\"dataframe\">\n  <thead>\n    <tr style=\"text-align: right;\">\n      <th></th>\n      <th>radiant_lineup</th>\n      <th>dire_lineup</th>\n      <th>radiant_win</th>\n    </tr>\n  </thead>\n  <tbody>\n    <tr>\n      <th>0</th>\n      <td>[103, 105, 71, 114, 129]</td>\n      <td>[64, 112, 69, 89, 39]</td>\n      <td>False</td>\n    </tr>\n    <tr>\n      <th>1</th>\n      <td>[85, 12, 107, 121, 15]</td>\n      <td>[129, 101, 13, 72, 61]</td>\n      <td>False</td>\n    </tr>\n    <tr>\n      <th>2</th>\n      <td>[3, 98, 86, 94, 114]</td>\n      <td>[129, 25, 68, 1, 100]</td>\n      <td>True</td>\n    </tr>\n    <tr>\n      <th>3</th>\n      <td>[91, 99, 29, 26, 46]</td>\n      <td>[100, 25, 129, 70, 123]</td>\n      <td>False</td>\n    </tr>\n    <tr>\n      <th>4</th>\n      <td>[22, 38, 8, 5, 33]</td>\n      <td>[19, 126, 99, 37, 104]</td>\n      <td>False</td>\n    </tr>\n  </tbody>\n</table>\n</div>"
     },
     "execution_count": 39,
     "metadata": {},
     "output_type": "execute_result"
    }
   ],
   "source": [
    "team_drafts = pd.DataFrame(team_drafts)\n",
    "team_drafts.head()"
   ],
   "metadata": {
    "collapsed": false
   }
  },
  {
   "cell_type": "markdown",
   "source": [
    "## It is usually considered that Anti-Mage (Hero ID 1) counters Medusa (Hero ID 94). We will explore if our data support this claim."
   ],
   "metadata": {
    "collapsed": false
   }
  },
  {
   "cell_type": "code",
   "execution_count": 40,
   "outputs": [],
   "source": [
    "condition = team_drafts[[\"radiant_lineup\", \"dire_lineup\"]].apply(\n",
    "    lambda x: 1 in x[\"radiant_lineup\"] and 94 in x[\"dire_lineup\"], axis=1) | \\\n",
    "            team_drafts[[\"radiant_lineup\", \"dire_lineup\"]].apply(\n",
    "                lambda x: 94 in x[\"radiant_lineup\"] and 1 in x[\"dire_lineup\"], axis=1)"
   ],
   "metadata": {
    "collapsed": false
   }
  },
  {
   "cell_type": "code",
   "execution_count": 41,
   "outputs": [
    {
     "data": {
      "text/plain": "            radiant_lineup              dire_lineup  radiant_win\n2     [3, 98, 86, 94, 114]    [129, 25, 68, 1, 100]         True\n182   [91, 94, 79, 21, 77]    [68, 129, 88, 1, 106]        False\n475  [20, 43, 123, 94, 38]      [49, 27, 64, 1, 39]        False\n522    [16, 91, 43, 72, 1]  [121, 120, 84, 94, 114]         True\n676  [120, 47, 57, 94, 59]      [3, 46, 100, 1, 35]        False",
      "text/html": "<div>\n<style scoped>\n    .dataframe tbody tr th:only-of-type {\n        vertical-align: middle;\n    }\n\n    .dataframe tbody tr th {\n        vertical-align: top;\n    }\n\n    .dataframe thead th {\n        text-align: right;\n    }\n</style>\n<table border=\"1\" class=\"dataframe\">\n  <thead>\n    <tr style=\"text-align: right;\">\n      <th></th>\n      <th>radiant_lineup</th>\n      <th>dire_lineup</th>\n      <th>radiant_win</th>\n    </tr>\n  </thead>\n  <tbody>\n    <tr>\n      <th>2</th>\n      <td>[3, 98, 86, 94, 114]</td>\n      <td>[129, 25, 68, 1, 100]</td>\n      <td>True</td>\n    </tr>\n    <tr>\n      <th>182</th>\n      <td>[91, 94, 79, 21, 77]</td>\n      <td>[68, 129, 88, 1, 106]</td>\n      <td>False</td>\n    </tr>\n    <tr>\n      <th>475</th>\n      <td>[20, 43, 123, 94, 38]</td>\n      <td>[49, 27, 64, 1, 39]</td>\n      <td>False</td>\n    </tr>\n    <tr>\n      <th>522</th>\n      <td>[16, 91, 43, 72, 1]</td>\n      <td>[121, 120, 84, 94, 114]</td>\n      <td>True</td>\n    </tr>\n    <tr>\n      <th>676</th>\n      <td>[120, 47, 57, 94, 59]</td>\n      <td>[3, 46, 100, 1, 35]</td>\n      <td>False</td>\n    </tr>\n  </tbody>\n</table>\n</div>"
     },
     "execution_count": 41,
     "metadata": {},
     "output_type": "execute_result"
    }
   ],
   "source": [
    "filtered_data = team_drafts[condition]\n",
    "filtered_data.head()"
   ],
   "metadata": {
    "collapsed": false
   }
  },
  {
   "cell_type": "code",
   "execution_count": 42,
   "outputs": [
    {
     "data": {
      "text/plain": "0.5922330097087378"
     },
     "execution_count": 42,
     "metadata": {},
     "output_type": "execute_result"
    }
   ],
   "source": [
    "am_wins = 0\n",
    "for index, row in filtered_data.iterrows():\n",
    "    if row[\"radiant_win\"]:\n",
    "        if 1 in row[\"radiant_lineup\"]:\n",
    "            am_wins += 1\n",
    "    else:\n",
    "        if 1 in row[\"dire_lineup\"]:\n",
    "            am_wins += 1\n",
    "am_wins / len(filtered_data)"
   ],
   "metadata": {
    "collapsed": false
   }
  },
  {
   "cell_type": "code",
   "execution_count": 43,
   "outputs": [
    {
     "data": {
      "text/plain": "0.4964493221433183"
     },
     "execution_count": 43,
     "metadata": {},
     "output_type": "execute_result"
    }
   ],
   "source": [
    "overall_am_wins = 0\n",
    "total_matches_with_am = 0\n",
    "for index, row in team_drafts.iterrows():\n",
    "    if row[\"radiant_win\"]:\n",
    "        if 1 in row[\"radiant_lineup\"]:\n",
    "            overall_am_wins += 1\n",
    "            total_matches_with_am += 1\n",
    "        elif 1 in row[\"dire_lineup\"]:\n",
    "            total_matches_with_am += 1\n",
    "    else:\n",
    "        if 1 in row[\"dire_lineup\"]:\n",
    "            overall_am_wins += 1\n",
    "            total_matches_with_am += 1\n",
    "        elif 1 in row[\"radiant_lineup\"]:\n",
    "            total_matches_with_am += 1\n",
    "overall_am_wins / total_matches_with_am\n"
   ],
   "metadata": {
    "collapsed": false
   }
  },
  {
   "cell_type": "markdown",
   "source": [
    "## We will now explore if our model captures the Anti-Mage vs Medusa counter relationship."
   ],
   "metadata": {
    "collapsed": false
   }
  },
  {
   "cell_type": "code",
   "execution_count": 44,
   "outputs": [
    {
     "data": {
      "text/plain": "       match_id  radiant_win  region  patch  first_pick_team  selection_0_id  \\\n2    6085918133         True      10     48                1              47   \n182  6844621359         True       3     51                0              85   \n475  6507696068        False       8     50                0              16   \n522  6025363045         True      15     48                1              58   \n676  6680625178         True       3     50                1             135   \n\n     selection_0_base_health  selection_0_base_health_regen  \\\n2                        200                           0.25   \n182                      200                           0.25   \n475                      200                           0.25   \n522                      200                           0.25   \n676                      200                           0.25   \n\n     selection_0_base_mana  selection_0_base_mana_regen  ...  \\\n2                       75                         0.00  ...   \n182                     75                         0.25  ...   \n475                     75                         0.00  ...   \n522                     75                         0.00  ...   \n676                     75                         0.00  ...   \n\n     selection_23_Durable  selection_23_Escape  selection_23_Initiator  \\\n2                       0                    1                       0   \n182                     0                    1                       0   \n475                     0                    1                       0   \n522                     0                    1                       0   \n676                     0                    1                       0   \n\n     selection_23_Jungler  selection_23_Nuker  selection_23_Pusher  \\\n2                       0                   1                    0   \n182                     0                   1                    0   \n475                     0                   1                    0   \n522                     0                   1                    0   \n676                     0                   1                    0   \n\n     selection_23_Support  selection_23_agi  selection_23_int  \\\n2                       0                 0                 1   \n182                     0                 0                 1   \n475                     0                 0                 1   \n522                     0                 0                 1   \n676                     0                 0                 1   \n\n     selection_23_Melee  \n2                     0  \n182                   0  \n475                   0  \n522                   0  \n676                   0  \n\n[5 rows x 821 columns]",
      "text/html": "<div>\n<style scoped>\n    .dataframe tbody tr th:only-of-type {\n        vertical-align: middle;\n    }\n\n    .dataframe tbody tr th {\n        vertical-align: top;\n    }\n\n    .dataframe thead th {\n        text-align: right;\n    }\n</style>\n<table border=\"1\" class=\"dataframe\">\n  <thead>\n    <tr style=\"text-align: right;\">\n      <th></th>\n      <th>match_id</th>\n      <th>radiant_win</th>\n      <th>region</th>\n      <th>patch</th>\n      <th>first_pick_team</th>\n      <th>selection_0_id</th>\n      <th>selection_0_base_health</th>\n      <th>selection_0_base_health_regen</th>\n      <th>selection_0_base_mana</th>\n      <th>selection_0_base_mana_regen</th>\n      <th>...</th>\n      <th>selection_23_Durable</th>\n      <th>selection_23_Escape</th>\n      <th>selection_23_Initiator</th>\n      <th>selection_23_Jungler</th>\n      <th>selection_23_Nuker</th>\n      <th>selection_23_Pusher</th>\n      <th>selection_23_Support</th>\n      <th>selection_23_agi</th>\n      <th>selection_23_int</th>\n      <th>selection_23_Melee</th>\n    </tr>\n  </thead>\n  <tbody>\n    <tr>\n      <th>2</th>\n      <td>6085918133</td>\n      <td>True</td>\n      <td>10</td>\n      <td>48</td>\n      <td>1</td>\n      <td>47</td>\n      <td>200</td>\n      <td>0.25</td>\n      <td>75</td>\n      <td>0.00</td>\n      <td>...</td>\n      <td>0</td>\n      <td>1</td>\n      <td>0</td>\n      <td>0</td>\n      <td>1</td>\n      <td>0</td>\n      <td>0</td>\n      <td>0</td>\n      <td>1</td>\n      <td>0</td>\n    </tr>\n    <tr>\n      <th>182</th>\n      <td>6844621359</td>\n      <td>True</td>\n      <td>3</td>\n      <td>51</td>\n      <td>0</td>\n      <td>85</td>\n      <td>200</td>\n      <td>0.25</td>\n      <td>75</td>\n      <td>0.25</td>\n      <td>...</td>\n      <td>0</td>\n      <td>1</td>\n      <td>0</td>\n      <td>0</td>\n      <td>1</td>\n      <td>0</td>\n      <td>0</td>\n      <td>0</td>\n      <td>1</td>\n      <td>0</td>\n    </tr>\n    <tr>\n      <th>475</th>\n      <td>6507696068</td>\n      <td>False</td>\n      <td>8</td>\n      <td>50</td>\n      <td>0</td>\n      <td>16</td>\n      <td>200</td>\n      <td>0.25</td>\n      <td>75</td>\n      <td>0.00</td>\n      <td>...</td>\n      <td>0</td>\n      <td>1</td>\n      <td>0</td>\n      <td>0</td>\n      <td>1</td>\n      <td>0</td>\n      <td>0</td>\n      <td>0</td>\n      <td>1</td>\n      <td>0</td>\n    </tr>\n    <tr>\n      <th>522</th>\n      <td>6025363045</td>\n      <td>True</td>\n      <td>15</td>\n      <td>48</td>\n      <td>1</td>\n      <td>58</td>\n      <td>200</td>\n      <td>0.25</td>\n      <td>75</td>\n      <td>0.00</td>\n      <td>...</td>\n      <td>0</td>\n      <td>1</td>\n      <td>0</td>\n      <td>0</td>\n      <td>1</td>\n      <td>0</td>\n      <td>0</td>\n      <td>0</td>\n      <td>1</td>\n      <td>0</td>\n    </tr>\n    <tr>\n      <th>676</th>\n      <td>6680625178</td>\n      <td>True</td>\n      <td>3</td>\n      <td>50</td>\n      <td>1</td>\n      <td>135</td>\n      <td>200</td>\n      <td>0.25</td>\n      <td>75</td>\n      <td>0.00</td>\n      <td>...</td>\n      <td>0</td>\n      <td>1</td>\n      <td>0</td>\n      <td>0</td>\n      <td>1</td>\n      <td>0</td>\n      <td>0</td>\n      <td>0</td>\n      <td>1</td>\n      <td>0</td>\n    </tr>\n  </tbody>\n</table>\n<p>5 rows × 821 columns</p>\n</div>"
     },
     "execution_count": 44,
     "metadata": {},
     "output_type": "execute_result"
    }
   ],
   "source": [
    "filtered_merged_data = merged_data.loc[filtered_data.index]\n",
    "filtered_merged_data.head()"
   ],
   "metadata": {
    "collapsed": false
   }
  },
  {
   "cell_type": "code",
   "execution_count": 45,
   "outputs": [],
   "source": [
    "filtered_X = filtered_merged_data.drop([\"radiant_win\", \"match_id\"], axis=1)\n",
    "filtered_y = filtered_merged_data[\"radiant_win\"]"
   ],
   "metadata": {
    "collapsed": false
   }
  },
  {
   "cell_type": "code",
   "execution_count": 46,
   "outputs": [
    {
     "data": {
      "text/plain": "0.5825242718446602"
     },
     "execution_count": 46,
     "metadata": {},
     "output_type": "execute_result"
    }
   ],
   "source": [
    "rf.score(filtered_X, filtered_y)\n"
   ],
   "metadata": {
    "collapsed": false
   }
  },
  {
   "cell_type": "code",
   "execution_count": 48,
   "outputs": [
    {
     "data": {
      "text/plain": "array([[71, 30],\n       [56, 49]], dtype=int64)"
     },
     "execution_count": 48,
     "metadata": {},
     "output_type": "execute_result"
    }
   ],
   "source": [
    "confusion_matrix(filtered_y, rf.predict(filtered_X))"
   ],
   "metadata": {
    "collapsed": false
   }
  },
  {
   "cell_type": "code",
   "execution_count": 51,
   "outputs": [
    {
     "data": {
      "text/plain": "array([[0.34466019, 0.14563107],\n       [0.27184466, 0.23786408]])"
     },
     "execution_count": 51,
     "metadata": {},
     "output_type": "execute_result"
    }
   ],
   "source": [
    "confusion_matrix(filtered_y, rf.predict(filtered_X), normalize=\"all\")"
   ],
   "metadata": {
    "collapsed": false
   }
  },
  {
   "cell_type": "code",
   "execution_count": 56,
   "outputs": [
    {
     "data": {
      "text/plain": "0.620253164556962"
     },
     "execution_count": 56,
     "metadata": {},
     "output_type": "execute_result"
    }
   ],
   "source": [
    "precision_score(filtered_y, rf.predict(filtered_X))"
   ],
   "metadata": {
    "collapsed": false
   }
  },
  {
   "cell_type": "code",
   "execution_count": 57,
   "outputs": [
    {
     "data": {
      "text/plain": "0.4666666666666667"
     },
     "execution_count": 57,
     "metadata": {},
     "output_type": "execute_result"
    }
   ],
   "source": [
    "recall_score(filtered_y, rf.predict(filtered_X))"
   ],
   "metadata": {
    "collapsed": false
   }
  },
  {
   "cell_type": "code",
   "execution_count": 58,
   "outputs": [
    {
     "data": {
      "text/plain": "0.532608695652174"
     },
     "execution_count": 58,
     "metadata": {},
     "output_type": "execute_result"
    }
   ],
   "source": [
    "f1_score(filtered_y, rf.predict(filtered_X))"
   ],
   "metadata": {
    "collapsed": false
   }
  },
  {
   "cell_type": "code",
   "execution_count": 59,
   "outputs": [
    {
     "data": {
      "text/plain": "0.5848184818481847"
     },
     "execution_count": 59,
     "metadata": {},
     "output_type": "execute_result"
    }
   ],
   "source": [
    "roc_auc_score(filtered_y, rf.predict(filtered_X))"
   ],
   "metadata": {
    "collapsed": false
   }
  },
  {
   "cell_type": "markdown",
   "source": [
    "## Testing tree's confidence vs accuracy.\n"
   ],
   "metadata": {
    "collapsed": false
   }
  },
  {
   "cell_type": "code",
   "execution_count": 106,
   "outputs": [],
   "source": [
    "def get_proba(X, classifiers):\n",
    "    proba = None\n",
    "    for classifier in classifiers:\n",
    "        if proba is None:\n",
    "            proba = classifier.predict(X)\n",
    "        else:\n",
    "            proba += classifier.predict(X)\n",
    "    return proba / len(classifiers)"
   ],
   "metadata": {
    "collapsed": false
   }
  },
  {
   "cell_type": "code",
   "execution_count": 107,
   "outputs": [
    {
     "data": {
      "text/plain": "array([0.43, 0.56, 0.47, 0.41, 0.46])"
     },
     "execution_count": 107,
     "metadata": {},
     "output_type": "execute_result"
    }
   ],
   "source": [
    "rf_proba = get_proba(X_test.to_numpy(), rf.best_estimator_.estimators_)\n",
    "rf_proba[:5]"
   ],
   "metadata": {
    "collapsed": false
   }
  },
  {
   "cell_type": "code",
   "execution_count": 181,
   "outputs": [
    {
     "data": {
      "text/plain": "<AxesSubplot: xlabel='bin'>"
     },
     "execution_count": 181,
     "metadata": {},
     "output_type": "execute_result"
    },
    {
     "data": {
      "text/plain": "<Figure size 640x480 with 1 Axes>",
      "image/png": "[encoded data removed]"
     },
     "metadata": {},
     "output_type": "display_data"
    }
   ],
   "source": [
    "X_test_copy = X_test.copy()\n",
    "X_test_copy[\"proba\"] = rf_proba\n",
    "X_test_copy[\"prediction\"] = rf.predict(X_test)\n",
    "X_test_copy[\"accurate_prediction\"] = X_test_copy[\"prediction\"] == y_test\n",
    "X_test_copy[\"confidence\"] = abs(X_test_copy[\"proba\"] - 0.5)\n",
    "X_test_copy[\"bin\"] = pd.qcut(X_test_copy[\"confidence\"], 12)\n",
    "X_test_copy.groupby(\"bin\").mean()[\"accurate_prediction\"].plot()"
   ],
   "metadata": {
    "collapsed": false
   }
  },
  {
   "cell_type": "code",
   "execution_count": 194,
   "outputs": [
    {
     "data": {
      "text/plain": "<AxesSubplot: xlabel='bin'>"
     },
     "execution_count": 194,
     "metadata": {},
     "output_type": "execute_result"
    },
    {
     "data": {
      "text/plain": "<Figure size 640x480 with 1 Axes>",
      "image/png": "[encoded data removed]"
     },
     "metadata": {},
     "output_type": "display_data"
    }
   ],
   "source": [
    "merged_data_copy = merged_data.copy()\n",
    "merged_data_copy[\"proba\"] = get_proba(merged_data_copy.drop([\"radiant_win\", \"match_id\"], axis=1).to_numpy(), rf.best_estimator_.estimators_)\n",
    "merged_data_copy[\"prediction\"] = rf.predict(merged_data_copy.drop([\"radiant_win\", \"match_id\", \"proba\"], axis=1))\n",
    "merged_data_copy[\"accurate_prediction\"] = merged_data_copy[\"prediction\"] == merged_data_copy[\"radiant_win\"]\n",
    "merged_data_copy[\"confidence\"] = abs(merged_data_copy[\"proba\"] - 0.5)\n",
    "merged_data_copy[\"bin\"] = pd.qcut(merged_data_copy[\"confidence\"], 12)\n",
    "merged_data_copy.groupby(\"bin\").mean()[\"accurate_prediction\"].plot()\n"
   ],
   "metadata": {
    "collapsed": false
   }
  },
  {
   "cell_type": "code",
   "execution_count": null,
   "outputs": [],
   "source": [],
   "metadata": {
    "collapsed": false
   }
  }
 ],
 "metadata": {
  "kernelspec": {
   "display_name": "Python 3",
   "language": "python",
   "name": "python3"
  },
  "language_info": {
   "codemirror_mode": {
    "name": "ipython",
    "version": 2
   },
   "file_extension": ".py",
   "mimetype": "text/x-python",
   "name": "python",
   "nbconvert_exporter": "python",
   "pygments_lexer": "ipython2",
   "version": "2.7.6"
  }
 },
 "nbformat": 4,
 "nbformat_minor": 0
}
