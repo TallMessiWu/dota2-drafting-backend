{
 "cells": [
  {
   "cell_type": "code",
   "execution_count": 1,
   "metadata": {
    "collapsed": true
   },
   "outputs": [],
   "source": [
    "import torch\n",
    "from torch import nn\n",
    "from torch.utils.data import DataLoader\n",
    "from torchvision import datasets\n",
    "from torchvision.transforms import ToTensor"
   ]
  },
  {
   "cell_type": "code",
   "execution_count": 2,
   "outputs": [
    {
     "name": "stdout",
     "output_type": "stream",
     "text": [
      "Downloading http://fashion-mnist.s3-website.eu-central-1.amazonaws.com/train-images-idx3-ubyte.gz\n",
      "Downloading http://fashion-mnist.s3-website.eu-central-1.amazonaws.com/train-images-idx3-ubyte.gz to data\\FashionMNIST\\raw\\train-images-idx3-ubyte.gz\n"
     ]
    },
    {
     "name": "stderr",
     "output_type": "stream",
     "text": [
      "100.0%\n"
     ]
    },
    {
     "name": "stdout",
     "output_type": "stream",
     "text": [
      "Extracting data\\FashionMNIST\\raw\\train-images-idx3-ubyte.gz to data\\FashionMNIST\\raw\n",
      "\n",
      "Downloading http://fashion-mnist.s3-website.eu-central-1.amazonaws.com/train-labels-idx1-ubyte.gz\n",
      "Downloading http://fashion-mnist.s3-website.eu-central-1.amazonaws.com/train-labels-idx1-ubyte.gz to data\\FashionMNIST\\raw\\train-labels-idx1-ubyte.gz\n"
     ]
    },
    {
     "name": "stderr",
     "output_type": "stream",
     "text": [
      "100.0%\n"
     ]
    },
    {
     "name": "stdout",
     "output_type": "stream",
     "text": [
      "Extracting data\\FashionMNIST\\raw\\train-labels-idx1-ubyte.gz to data\\FashionMNIST\\raw\n",
      "\n",
      "Downloading http://fashion-mnist.s3-website.eu-central-1.amazonaws.com/t10k-images-idx3-ubyte.gz\n",
      "Downloading http://fashion-mnist.s3-website.eu-central-1.amazonaws.com/t10k-images-idx3-ubyte.gz to data\\FashionMNIST\\raw\\t10k-images-idx3-ubyte.gz\n"
     ]
    },
    {
     "name": "stderr",
     "output_type": "stream",
     "text": [
      "100.0%\n"
     ]
    },
    {
     "name": "stdout",
     "output_type": "stream",
     "text": [
      "Extracting data\\FashionMNIST\\raw\\t10k-images-idx3-ubyte.gz to data\\FashionMNIST\\raw\n",
      "\n",
      "Downloading http://fashion-mnist.s3-website.eu-central-1.amazonaws.com/t10k-labels-idx1-ubyte.gz\n",
      "Downloading http://fashion-mnist.s3-website.eu-central-1.amazonaws.com/t10k-labels-idx1-ubyte.gz to data\\FashionMNIST\\raw\\t10k-labels-idx1-ubyte.gz\n"
     ]
    },
    {
     "name": "stderr",
     "output_type": "stream",
     "text": [
      "100.0%"
     ]
    },
    {
     "name": "stdout",
     "output_type": "stream",
     "text": [
      "Extracting data\\FashionMNIST\\raw\\t10k-labels-idx1-ubyte.gz to data\\FashionMNIST\\raw\n",
      "\n"
     ]
    },
    {
     "name": "stderr",
     "output_type": "stream",
     "text": [
      "\n"
     ]
    }
   ],
   "source": [
    "# Download training data from open datasets.\n",
    "training_data = datasets.FashionMNIST(\n",
    "    root=\"data\",\n",
    "    train=True,\n",
    "    download=True,\n",
    "    transform=ToTensor(),\n",
    ")\n",
    "\n",
    "# Download test data from open datasets.\n",
    "test_data = datasets.FashionMNIST(\n",
    "    root=\"data\",\n",
    "    train=False,\n",
    "    download=True,\n",
    "    transform=ToTensor(),\n",
    ")\n"
   ],
   "metadata": {
    "collapsed": false
   }
  },
  {
   "cell_type": "code",
   "execution_count": 3,
   "outputs": [
    {
     "name": "stdout",
     "output_type": "stream",
     "text": [
      "Shape of X [N, C, H, W]: torch.Size([64, 1, 28, 28])\n",
      "Shape of y: torch.Size([64]) torch.int64\n"
     ]
    }
   ],
   "source": [
    "batch_size = 64\n",
    "\n",
    "# Create data loaders.\n",
    "train_dataloader = DataLoader(training_data, batch_size=batch_size)\n",
    "test_dataloader = DataLoader(test_data, batch_size=batch_size)\n",
    "\n",
    "for X, y in test_dataloader:\n",
    "    print(f\"Shape of X [N, C, H, W]: {X.shape}\")\n",
    "    print(f\"Shape of y: {y.shape} {y.dtype}\")\n",
    "    break\n"
   ],
   "metadata": {
    "collapsed": false
   }
  },
  {
   "cell_type": "code",
   "execution_count": 4,
   "outputs": [
    {
     "name": "stdout",
     "output_type": "stream",
     "text": [
      "Using cuda device\n",
      "NeuralNetwork(\n",
      "  (flatten): Flatten(start_dim=1, end_dim=-1)\n",
      "  (linear_relu_stack): Sequential(\n",
      "    (0): Linear(in_features=784, out_features=512, bias=True)\n",
      "    (1): ReLU()\n",
      "    (2): Linear(in_features=512, out_features=512, bias=True)\n",
      "    (3): ReLU()\n",
      "    (4): Linear(in_features=512, out_features=10, bias=True)\n",
      "  )\n",
      ")\n"
     ]
    }
   ],
   "source": [
    "# Get cpu or gpu device for training.\n",
    "device = \"cuda\" if torch.cuda.is_available() else \"mps\" if torch.backends.mps.is_available() else \"cpu\"\n",
    "print(f\"Using {device} device\")\n",
    "\n",
    "# Define model\n",
    "class NeuralNetwork(nn.Module):\n",
    "    def __init__(self):\n",
    "        super().__init__()\n",
    "        self.flatten = nn.Flatten()\n",
    "        self.linear_relu_stack = nn.Sequential(\n",
    "            nn.Linear(28*28, 512),\n",
    "            nn.ReLU(),\n",
    "            nn.Linear(512, 512),\n",
    "            nn.ReLU(),\n",
    "            nn.Linear(512, 10)\n",
    "        )\n",
    "\n",
    "\n",
    "    def forward(self, x):\n",
    "        x = self.flatten(x)\n",
    "        logits = self.linear_relu_stack(x)\n",
    "        return logits\n",
    "\n",
    "model = NeuralNetwork().to(device)\n",
    "print(model)"
   ],
   "metadata": {
    "collapsed": false
   }
  },
  {
   "cell_type": "code",
   "execution_count": 5,
   "outputs": [],
   "source": [
    "loss_fn = nn.CrossEntropyLoss()\n",
    "optimizer = torch.optim.SGD(model.parameters(), lr=1e-3)"
   ],
   "metadata": {
    "collapsed": false
   }
  },
  {
   "cell_type": "code",
   "execution_count": 6,
   "outputs": [],
   "source": [
    "def train(dataloader, model, loss_fn, optimizer):\n",
    "    size = len(dataloader.dataset)\n",
    "    model.train()\n",
    "    for batch, (X, y) in enumerate(dataloader):\n",
    "        X, y = X.to(device), y.to(device)\n",
    "\n",
    "        # Compute prediction error\n",
    "        pred = model(X)\n",
    "        loss = loss_fn(pred, y)\n",
    "\n",
    "        # Backpropagation\n",
    "        optimizer.zero_grad()\n",
    "        loss.backward()\n",
    "        optimizer.step()\n",
    "\n",
    "        if batch % 100 == 0:\n",
    "            loss, current = loss.item(), batch * len(X)\n",
    "            print(f\"loss: {loss:>7f}  [{current:>5d}/{size:>5d}]\")\n"
   ],
   "metadata": {
    "collapsed": false
   }
  },
  {
   "cell_type": "code",
   "execution_count": 7,
   "outputs": [],
   "source": [
    "def test(dataloader, model, loss_fn):\n",
    "    size = len(dataloader.dataset)\n",
    "    num_batches = len(dataloader)\n",
    "    model.eval()\n",
    "    test_loss, correct = 0, 0\n",
    "    # 优化计算时间\n",
    "    with torch.no_grad():\n",
    "        for X, y in dataloader:\n",
    "            X, y = X.to(device), y.to(device)\n",
    "            pred = model(X)\n",
    "            test_loss += loss_fn(pred, y).item()\n",
    "            correct += (pred.argmax(1) == y).type(torch.float).sum().item()\n",
    "    test_loss /= num_batches\n",
    "    correct /= size\n",
    "    print(f\"Test Error: \\n Accuracy: {(100*correct):>0.1f}%, Avg loss: {test_loss:>8f} \\n\")\n"
   ],
   "metadata": {
    "collapsed": false
   }
  },
  {
   "cell_type": "code",
   "execution_count": 9,
   "outputs": [
    {
     "name": "stdout",
     "output_type": "stream",
     "text": [
      "Epoch 1\n",
      "-------------------------------\n",
      "loss: 1.135029  [    0/60000]\n",
      "loss: 1.144024  [ 6400/60000]\n",
      "loss: 0.958713  [12800/60000]\n",
      "loss: 1.085073  [19200/60000]\n",
      "loss: 0.969007  [25600/60000]\n",
      "loss: 1.006339  [32000/60000]\n",
      "loss: 1.037395  [38400/60000]\n",
      "loss: 0.978442  [44800/60000]\n",
      "loss: 1.011716  [51200/60000]\n",
      "loss: 0.968029  [57600/60000]\n",
      "Test Error: \n",
      " Accuracy: 66.0%, Avg loss: 0.965996 \n",
      "\n",
      "Epoch 2\n",
      "-------------------------------\n",
      "loss: 1.020601  [    0/60000]\n",
      "loss: 1.050501  [ 6400/60000]\n",
      "loss: 0.848072  [12800/60000]\n",
      "loss: 1.000005  [19200/60000]\n",
      "loss: 0.888743  [25600/60000]\n",
      "loss: 0.916124  [32000/60000]\n",
      "loss: 0.964850  [38400/60000]\n",
      "loss: 0.908602  [44800/60000]\n",
      "loss: 0.936498  [51200/60000]\n",
      "loss: 0.907337  [57600/60000]\n",
      "Test Error: \n",
      " Accuracy: 67.3%, Avg loss: 0.897834 \n",
      "\n",
      "Epoch 3\n",
      "-------------------------------\n",
      "loss: 0.937889  [    0/60000]\n",
      "loss: 0.985864  [ 6400/60000]\n",
      "loss: 0.769521  [12800/60000]\n",
      "loss: 0.940215  [19200/60000]\n",
      "loss: 0.835448  [25600/60000]\n",
      "loss: 0.850295  [32000/60000]\n",
      "loss: 0.913864  [38400/60000]\n",
      "loss: 0.862282  [44800/60000]\n",
      "loss: 0.882935  [51200/60000]\n",
      "loss: 0.863486  [57600/60000]\n",
      "Test Error: \n",
      " Accuracy: 68.4%, Avg loss: 0.848746 \n",
      "\n",
      "Epoch 4\n",
      "-------------------------------\n",
      "loss: 0.874805  [    0/60000]\n",
      "loss: 0.937492  [ 6400/60000]\n",
      "loss: 0.710998  [12800/60000]\n",
      "loss: 0.895834  [19200/60000]\n",
      "loss: 0.797185  [25600/60000]\n",
      "loss: 0.800818  [32000/60000]\n",
      "loss: 0.874967  [38400/60000]\n",
      "loss: 0.830158  [44800/60000]\n",
      "loss: 0.842769  [51200/60000]\n",
      "loss: 0.829706  [57600/60000]\n",
      "Test Error: \n",
      " Accuracy: 69.6%, Avg loss: 0.811357 \n",
      "\n",
      "Epoch 5\n",
      "-------------------------------\n",
      "loss: 0.824631  [    0/60000]\n",
      "loss: 0.898633  [ 6400/60000]\n",
      "loss: 0.665548  [12800/60000]\n",
      "loss: 0.861515  [19200/60000]\n",
      "loss: 0.767798  [25600/60000]\n",
      "loss: 0.762435  [32000/60000]\n",
      "loss: 0.843243  [38400/60000]\n",
      "loss: 0.806444  [44800/60000]\n",
      "loss: 0.811319  [51200/60000]\n",
      "loss: 0.802653  [57600/60000]\n",
      "Test Error: \n",
      " Accuracy: 70.7%, Avg loss: 0.781384 \n",
      "\n",
      "Epoch 6\n",
      "-------------------------------\n",
      "loss: 0.783002  [    0/60000]\n",
      "loss: 0.865603  [ 6400/60000]\n",
      "loss: 0.628850  [12800/60000]\n",
      "loss: 0.834063  [19200/60000]\n",
      "loss: 0.743936  [25600/60000]\n",
      "loss: 0.731682  [32000/60000]\n",
      "loss: 0.815766  [38400/60000]\n",
      "loss: 0.787769  [44800/60000]\n",
      "loss: 0.785809  [51200/60000]\n",
      "loss: 0.779690  [57600/60000]\n",
      "Test Error: \n",
      " Accuracy: 71.9%, Avg loss: 0.756257 \n",
      "\n",
      "Epoch 7\n",
      "-------------------------------\n",
      "loss: 0.747373  [    0/60000]\n",
      "loss: 0.836619  [ 6400/60000]\n",
      "loss: 0.598288  [12800/60000]\n",
      "loss: 0.811444  [19200/60000]\n",
      "loss: 0.723777  [25600/60000]\n",
      "loss: 0.706478  [32000/60000]\n",
      "loss: 0.791003  [38400/60000]\n",
      "loss: 0.772144  [44800/60000]\n",
      "loss: 0.764157  [51200/60000]\n",
      "loss: 0.759396  [57600/60000]\n",
      "Test Error: \n",
      " Accuracy: 73.2%, Avg loss: 0.734422 \n",
      "\n",
      "Epoch 8\n",
      "-------------------------------\n",
      "loss: 0.716203  [    0/60000]\n",
      "loss: 0.810452  [ 6400/60000]\n",
      "loss: 0.572145  [12800/60000]\n",
      "loss: 0.792128  [19200/60000]\n",
      "loss: 0.706013  [25600/60000]\n",
      "loss: 0.685350  [32000/60000]\n",
      "loss: 0.768342  [38400/60000]\n",
      "loss: 0.758542  [44800/60000]\n",
      "loss: 0.745360  [51200/60000]\n",
      "loss: 0.741116  [57600/60000]\n",
      "Test Error: \n",
      " Accuracy: 74.1%, Avg loss: 0.714979 \n",
      "\n",
      "Epoch 9\n",
      "-------------------------------\n",
      "loss: 0.688615  [    0/60000]\n",
      "loss: 0.786639  [ 6400/60000]\n",
      "loss: 0.549359  [12800/60000]\n",
      "loss: 0.775318  [19200/60000]\n",
      "loss: 0.690229  [25600/60000]\n",
      "loss: 0.667449  [32000/60000]\n",
      "loss: 0.747258  [38400/60000]\n",
      "loss: 0.746447  [44800/60000]\n",
      "loss: 0.728723  [51200/60000]\n",
      "loss: 0.724246  [57600/60000]\n",
      "Test Error: \n",
      " Accuracy: 74.9%, Avg loss: 0.697358 \n",
      "\n",
      "Epoch 10\n",
      "-------------------------------\n",
      "loss: 0.664048  [    0/60000]\n",
      "loss: 0.764830  [ 6400/60000]\n",
      "loss: 0.529242  [12800/60000]\n",
      "loss: 0.760357  [19200/60000]\n",
      "loss: 0.675957  [25600/60000]\n",
      "loss: 0.652016  [32000/60000]\n",
      "loss: 0.727401  [38400/60000]\n",
      "loss: 0.735539  [44800/60000]\n",
      "loss: 0.713869  [51200/60000]\n",
      "loss: 0.708491  [57600/60000]\n",
      "Test Error: \n",
      " Accuracy: 75.8%, Avg loss: 0.681250 \n",
      "\n",
      "Epoch 11\n",
      "-------------------------------\n",
      "loss: 0.642074  [    0/60000]\n",
      "loss: 0.744807  [ 6400/60000]\n",
      "loss: 0.511351  [12800/60000]\n",
      "loss: 0.746768  [19200/60000]\n",
      "loss: 0.662958  [25600/60000]\n",
      "loss: 0.638678  [32000/60000]\n",
      "loss: 0.708713  [38400/60000]\n",
      "loss: 0.725724  [44800/60000]\n",
      "loss: 0.700537  [51200/60000]\n",
      "loss: 0.693724  [57600/60000]\n",
      "Test Error: \n",
      " Accuracy: 76.5%, Avg loss: 0.666460 \n",
      "\n",
      "Epoch 12\n",
      "-------------------------------\n",
      "loss: 0.622383  [    0/60000]\n",
      "loss: 0.726323  [ 6400/60000]\n",
      "loss: 0.495307  [12800/60000]\n",
      "loss: 0.734336  [19200/60000]\n",
      "loss: 0.651282  [25600/60000]\n",
      "loss: 0.627085  [32000/60000]\n",
      "loss: 0.691186  [38400/60000]\n",
      "loss: 0.716982  [44800/60000]\n",
      "loss: 0.688654  [51200/60000]\n",
      "loss: 0.679774  [57600/60000]\n",
      "Test Error: \n",
      " Accuracy: 76.9%, Avg loss: 0.652857 \n",
      "\n",
      "Epoch 13\n",
      "-------------------------------\n",
      "loss: 0.604618  [    0/60000]\n",
      "loss: 0.709283  [ 6400/60000]\n",
      "loss: 0.480885  [12800/60000]\n",
      "loss: 0.722926  [19200/60000]\n",
      "loss: 0.640708  [25600/60000]\n",
      "loss: 0.616904  [32000/60000]\n",
      "loss: 0.674788  [38400/60000]\n",
      "loss: 0.709328  [44800/60000]\n",
      "loss: 0.678146  [51200/60000]\n",
      "loss: 0.666655  [57600/60000]\n",
      "Test Error: \n",
      " Accuracy: 77.6%, Avg loss: 0.640360 \n",
      "\n",
      "Epoch 14\n",
      "-------------------------------\n",
      "loss: 0.588587  [    0/60000]\n",
      "loss: 0.693592  [ 6400/60000]\n",
      "loss: 0.467900  [12800/60000]\n",
      "loss: 0.712450  [19200/60000]\n",
      "loss: 0.631216  [25600/60000]\n",
      "loss: 0.607938  [32000/60000]\n",
      "loss: 0.659567  [38400/60000]\n",
      "loss: 0.702671  [44800/60000]\n",
      "loss: 0.668967  [51200/60000]\n",
      "loss: 0.654295  [57600/60000]\n",
      "Test Error: \n",
      " Accuracy: 78.1%, Avg loss: 0.628883 \n",
      "\n",
      "Epoch 15\n",
      "-------------------------------\n",
      "loss: 0.574079  [    0/60000]\n",
      "loss: 0.679028  [ 6400/60000]\n",
      "loss: 0.456138  [12800/60000]\n",
      "loss: 0.702628  [19200/60000]\n",
      "loss: 0.622589  [25600/60000]\n",
      "loss: 0.600013  [32000/60000]\n",
      "loss: 0.645402  [38400/60000]\n",
      "loss: 0.696989  [44800/60000]\n",
      "loss: 0.660963  [51200/60000]\n",
      "loss: 0.642597  [57600/60000]\n",
      "Test Error: \n",
      " Accuracy: 78.5%, Avg loss: 0.618334 \n",
      "\n",
      "Done!\n"
     ]
    }
   ],
   "source": [
    "epochs = 15\n",
    "for t in range(epochs):\n",
    "    print(f\"Epoch {t+1}\\n-------------------------------\")\n",
    "    train(train_dataloader, model, loss_fn, optimizer)\n",
    "    test(test_dataloader, model, loss_fn)\n",
    "print(\"Done!\")\n"
   ],
   "metadata": {
    "collapsed": false
   }
  },
  {
   "cell_type": "code",
   "execution_count": null,
   "outputs": [],
   "source": [],
   "metadata": {
    "collapsed": false
   }
  }
 ],
 "metadata": {
  "kernelspec": {
   "display_name": "Python 3",
   "language": "python",
   "name": "python3"
  },
  "language_info": {
   "codemirror_mode": {
    "name": "ipython",
    "version": 2
   },
   "file_extension": ".py",
   "mimetype": "text/x-python",
   "name": "python",
   "nbconvert_exporter": "python",
   "pygments_lexer": "ipython2",
   "version": "2.7.6"
  }
 },
 "nbformat": 4,
 "nbformat_minor": 0
}
