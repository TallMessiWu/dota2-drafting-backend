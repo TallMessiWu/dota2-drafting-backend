{
 "cells": [
  {
   "cell_type": "code",
   "execution_count": null,
   "outputs": [],
   "source": [
    "import sys\n",
    "\n",
    "# setting path\n",
    "sys.path.append('..')"
   ],
   "metadata": {
    "collapsed": false
   }
  },
  {
   "cell_type": "code",
   "execution_count": null,
   "outputs": [],
   "source": [
    "# local package\n",
    "import classified"
   ],
   "metadata": {
    "collapsed": false
   }
  },
  {
   "cell_type": "code",
   "execution_count": null,
   "metadata": {
    "collapsed": true
   },
   "outputs": [],
   "source": [
    "# outside package\n",
    "import requests\n",
    "import pandas as pd\n",
    "import time\n",
    "import json"
   ]
  },
  {
   "cell_type": "code",
   "execution_count": null,
   "outputs": [],
   "source": [
    "def use_api(address, params=None, method=\"get\"):\n",
    "    if params is None:\n",
    "        params = {\"api_key\": classified.API_KEY}\n",
    "    else:\n",
    "        params[\"api_key\"] = classified.API_KEY\n",
    "    method = getattr(requests, method)\n",
    "    return method(address, params=params).json()"
   ],
   "metadata": {
    "collapsed": false
   }
  },
  {
   "cell_type": "code",
   "execution_count": null,
   "outputs": [],
   "source": [
    "demo1 = use_api(\"https://api.opendota.com/api/proMatches\")\n",
    "demo1 = pd.DataFrame(demo1)"
   ],
   "metadata": {
    "collapsed": false
   }
  },
  {
   "cell_type": "code",
   "execution_count": null,
   "outputs": [],
   "source": [
    "demo1.head()"
   ],
   "metadata": {
    "collapsed": false
   }
  },
  {
   "cell_type": "code",
   "execution_count": null,
   "outputs": [],
   "source": [
    "demo2 = use_api(\"https://api.opendota.com/api/matches/{}\".format(6897941675))"
   ],
   "metadata": {
    "collapsed": false
   }
  },
  {
   "cell_type": "code",
   "execution_count": null,
   "outputs": [],
   "source": [
    "demo2"
   ],
   "metadata": {
    "collapsed": false
   }
  },
  {
   "cell_type": "code",
   "execution_count": null,
   "outputs": [],
   "source": [
    "demo3 = use_api(\"https://api.opendota.com/api/heroes/1/matches\")"
   ],
   "metadata": {
    "collapsed": false
   }
  },
  {
   "cell_type": "code",
   "execution_count": null,
   "outputs": [],
   "source": [
    "demo3"
   ],
   "metadata": {
    "collapsed": false
   }
  },
  {
   "cell_type": "markdown",
   "source": [
    "Get Pro Matches\n"
   ],
   "metadata": {
    "collapsed": false
   }
  },
  {
   "cell_type": "code",
   "execution_count": null,
   "outputs": [],
   "source": [
    "pro_matches = []"
   ],
   "metadata": {
    "collapsed": false
   }
  },
  {
   "cell_type": "code",
   "execution_count": null,
   "outputs": [],
   "source": [
    "for i in range(0, 10000, 1000):\n",
    "    result = use_api(\n",
    "        \"https://api.opendota.com/api/explorer\",\n",
    "        params={\"sql\":\n",
    "                    \"\"\"\n",
    "                        SELECT\n",
    "                            matches.match_id\n",
    "                        FROM\n",
    "                            matches\n",
    "                            JOIN match_patch USING ( match_id )\n",
    "                            JOIN leagues USING ( leagueid )\n",
    "                            JOIN player_matches USING ( match_id )\n",
    "                            JOIN heroes ON heroes.id = player_matches.hero_id\n",
    "                            LEFT JOIN notable_players ON notable_players.account_id = player_matches.account_id\n",
    "                            LEFT JOIN teams USING ( team_id )\n",
    "                        WHERE\n",
    "                        TRUE\n",
    "                            AND match_patch.patch >= '7.28'\n",
    "                            AND leagues.tier = 'professional'\n",
    "                        GROUP BY\n",
    "                            matches.match_id\n",
    "                        ORDER BY\n",
    "                            matches.match_id NULLS LAST\n",
    "                            LIMIT 1000 OFFSET {}\n",
    "                    \"\"\".format(i)}\n",
    "    )\n",
    "    pro_matches += result[\"rows\"]\n",
    "    print(\"First {} data fetched.\".format(i + 1000))\n",
    "    time.sleep(0.5)"
   ],
   "metadata": {
    "collapsed": false
   }
  },
  {
   "cell_type": "code",
   "execution_count": null,
   "outputs": [],
   "source": [
    "pro_matches = [i[\"match_id\"] for i in pro_matches]"
   ],
   "metadata": {
    "collapsed": false
   }
  },
  {
   "cell_type": "code",
   "execution_count": null,
   "outputs": [],
   "source": [
    "data = []"
   ],
   "metadata": {
    "collapsed": false
   }
  },
  {
   "cell_type": "code",
   "execution_count": null,
   "outputs": [],
   "source": [
    "for i in pro_matches:\n",
    "    kept_keys = [\"match_id\", \"radiant_win\", \"region\", \"patch\", \"picks_bans\"]\n",
    "    result = use_api(\"https://api.opendota.com/api/matches/{match_id}\".format(match_id=i))\n",
    "    data.append({k: result[k] for k in kept_keys})\n",
    "    time.sleep(0.5)"
   ],
   "metadata": {
    "collapsed": false
   }
  },
  {
   "cell_type": "code",
   "execution_count": null,
   "outputs": [],
   "source": [
    "with open(\"../data/raw_data/data.json\", \"w\") as f:\n",
    "    json.dump({\"data\": data}, f)\n"
   ],
   "metadata": {
    "collapsed": false
   }
  }
 ],
 "metadata": {
  "kernelspec": {
   "display_name": "Python 3",
   "language": "python",
   "name": "python3"
  },
  "language_info": {
   "codemirror_mode": {
    "name": "ipython",
    "version": 2
   },
   "file_extension": ".py",
   "mimetype": "text/x-python",
   "name": "python",
   "nbconvert_exporter": "python",
   "pygments_lexer": "ipython2",
   "version": "2.7.6"
  }
 },
 "nbformat": 4,
 "nbformat_minor": 0
}
